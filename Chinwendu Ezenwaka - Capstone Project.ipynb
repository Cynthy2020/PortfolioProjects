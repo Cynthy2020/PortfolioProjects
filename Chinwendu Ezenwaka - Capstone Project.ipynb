{
 "cells": [
  {
   "cell_type": "markdown",
   "id": "ae5e9889",
   "metadata": {},
   "source": [
    "# Draky Supermarket Sales Analysis"
   ]
  },
  {
   "cell_type": "markdown",
   "id": "c0472013",
   "metadata": {},
   "source": [
    "### problem questions\n",
    "What is causing the decline in sales of the products\n",
    "1. Sale trends over the years.\n",
    "2. Products that made the highest sales\n",
    "3. the products customers want are not properly displayed on the shelf where the customers can easily locate them.product visibility of the products are very low"
   ]
  },
  {
   "cell_type": "code",
   "execution_count": 2,
   "id": "ec23a4ed",
   "metadata": {},
   "outputs": [],
   "source": [
    "# import the libraries\n",
    "import pandas as pd\n",
    "import numpy as np\n",
    "import seaborn as sns\n",
    "import matplotlib.pyplot as plt"
   ]
  },
  {
   "cell_type": "code",
   "execution_count": 3,
   "id": "80715dbe",
   "metadata": {},
   "outputs": [],
   "source": [
    "#read the data\n",
    "\n",
    "df = pd.read_csv(\"Chinwendu Ezenwaka - Supermarket - Chinwendu Ezenwaka - Supermarket.csv\")"
   ]
  },
  {
   "cell_type": "code",
   "execution_count": 4,
   "id": "731391ee",
   "metadata": {},
   "outputs": [
    {
     "data": {
      "text/html": [
       "<div>\n",
       "<style scoped>\n",
       "    .dataframe tbody tr th:only-of-type {\n",
       "        vertical-align: middle;\n",
       "    }\n",
       "\n",
       "    .dataframe tbody tr th {\n",
       "        vertical-align: top;\n",
       "    }\n",
       "\n",
       "    .dataframe thead th {\n",
       "        text-align: right;\n",
       "    }\n",
       "</style>\n",
       "<table border=\"1\" class=\"dataframe\">\n",
       "  <thead>\n",
       "    <tr style=\"text-align: right;\">\n",
       "      <th></th>\n",
       "      <th>Product Identifier</th>\n",
       "      <th>Supermarket Identifier</th>\n",
       "      <th>Product Supermarket Identifer</th>\n",
       "      <th>Product Weight</th>\n",
       "      <th>Product Fat Content</th>\n",
       "      <th>Product Shelf Visibility</th>\n",
       "      <th>Product Type</th>\n",
       "      <th>Product Price</th>\n",
       "      <th>Supermarket Opening Year</th>\n",
       "      <th>Supermarket  Size</th>\n",
       "      <th>Supermarket Location Type</th>\n",
       "      <th>Supermarket Type</th>\n",
       "      <th>Average Price per ProductType</th>\n",
       "      <th>Product Supermarket Sales</th>\n",
       "    </tr>\n",
       "  </thead>\n",
       "  <tbody>\n",
       "    <tr>\n",
       "      <th>0</th>\n",
       "      <td>NCA29</td>\n",
       "      <td>CHUKWUDI046</td>\n",
       "      <td>NCA29_CHUKWUDI046</td>\n",
       "      <td>10.500</td>\n",
       "      <td>Lo Fat</td>\n",
       "      <td>0.027276</td>\n",
       "      <td>Household</td>\n",
       "      <td>428.28</td>\n",
       "      <td>2004</td>\n",
       "      <td>Small</td>\n",
       "      <td>Cluster 1</td>\n",
       "      <td>Supermarket Type1</td>\n",
       "      <td>399.999418</td>\n",
       "      <td>8983.31</td>\n",
       "    </tr>\n",
       "    <tr>\n",
       "      <th>1</th>\n",
       "      <td>FDG53</td>\n",
       "      <td>CHUKWUDI049</td>\n",
       "      <td>FDG53_CHUKWUDI049</td>\n",
       "      <td>10.000</td>\n",
       "      <td>Low Fat</td>\n",
       "      <td>0.045928</td>\n",
       "      <td>Frozen Foods</td>\n",
       "      <td>345.30</td>\n",
       "      <td>2006</td>\n",
       "      <td>Medium</td>\n",
       "      <td>Cluster 1</td>\n",
       "      <td>Supermarket Type1</td>\n",
       "      <td>388.0710941</td>\n",
       "      <td>4893.63</td>\n",
       "    </tr>\n",
       "    <tr>\n",
       "      <th>2</th>\n",
       "      <td>NCN05</td>\n",
       "      <td>CHUKWUDI045</td>\n",
       "      <td>NCN05_CHUKWUDI045</td>\n",
       "      <td>8.235</td>\n",
       "      <td>Lo Fat</td>\n",
       "      <td>0.014489</td>\n",
       "      <td>Health and Hygiene</td>\n",
       "      <td>459.49</td>\n",
       "      <td>2009</td>\n",
       "      <td>NaN</td>\n",
       "      <td>Cluster 2</td>\n",
       "      <td>Supermarket Type1</td>\n",
       "      <td>367.1430293</td>\n",
       "      <td>7323.80</td>\n",
       "    </tr>\n",
       "    <tr>\n",
       "      <th>3</th>\n",
       "      <td>NCV17</td>\n",
       "      <td>CHUKWUDI046</td>\n",
       "      <td>NCV17_CHUKWUDI046</td>\n",
       "      <td>18.850</td>\n",
       "      <td>Low Fat</td>\n",
       "      <td>0.016108</td>\n",
       "      <td>Health and Hygiene</td>\n",
       "      <td>324.41</td>\n",
       "      <td>2004</td>\n",
       "      <td>Small</td>\n",
       "      <td>Cluster 1</td>\n",
       "      <td>Supermarket Type1</td>\n",
       "      <td>367.1430293</td>\n",
       "      <td>7541.85</td>\n",
       "    </tr>\n",
       "    <tr>\n",
       "      <th>4</th>\n",
       "      <td>FDK03</td>\n",
       "      <td>CHUKWUDI045</td>\n",
       "      <td>FDK03_CHUKWUDI045</td>\n",
       "      <td>12.600</td>\n",
       "      <td>Normal Fat</td>\n",
       "      <td>0.074070</td>\n",
       "      <td>Dairy</td>\n",
       "      <td>635.59</td>\n",
       "      <td>2009</td>\n",
       "      <td>NaN</td>\n",
       "      <td>Cluster 2</td>\n",
       "      <td>Supermarket Type1</td>\n",
       "      <td>409.5043429</td>\n",
       "      <td>11445.10</td>\n",
       "    </tr>\n",
       "    <tr>\n",
       "      <th>...</th>\n",
       "      <td>...</td>\n",
       "      <td>...</td>\n",
       "      <td>...</td>\n",
       "      <td>...</td>\n",
       "      <td>...</td>\n",
       "      <td>...</td>\n",
       "      <td>...</td>\n",
       "      <td>...</td>\n",
       "      <td>...</td>\n",
       "      <td>...</td>\n",
       "      <td>...</td>\n",
       "      <td>...</td>\n",
       "      <td>...</td>\n",
       "      <td>...</td>\n",
       "    </tr>\n",
       "    <tr>\n",
       "      <th>2989</th>\n",
       "      <td>FDK21</td>\n",
       "      <td>CHUKWUDI045</td>\n",
       "      <td>FDK21_CHUKWUDI045</td>\n",
       "      <td>7.905</td>\n",
       "      <td>Low Fat</td>\n",
       "      <td>0.010033</td>\n",
       "      <td>Snack Foods</td>\n",
       "      <td>620.85</td>\n",
       "      <td>2009</td>\n",
       "      <td>NaN</td>\n",
       "      <td>Cluster 2</td>\n",
       "      <td>Supermarket Type1</td>\n",
       "      <td>395.35219</td>\n",
       "      <td>1877.56</td>\n",
       "    </tr>\n",
       "    <tr>\n",
       "      <th>2990</th>\n",
       "      <td>NCJ05</td>\n",
       "      <td>CHUKWUDI049</td>\n",
       "      <td>NCJ05_CHUKWUDI049</td>\n",
       "      <td>18.700</td>\n",
       "      <td>Low Fat</td>\n",
       "      <td>0.046160</td>\n",
       "      <td>Health and Hygiene</td>\n",
       "      <td>380.92</td>\n",
       "      <td>2006</td>\n",
       "      <td>Medium</td>\n",
       "      <td>Cluster 1</td>\n",
       "      <td>Supermarket Type1</td>\n",
       "      <td>367.1430293</td>\n",
       "      <td>4192.88</td>\n",
       "    </tr>\n",
       "    <tr>\n",
       "      <th>2991</th>\n",
       "      <td>FDI04</td>\n",
       "      <td>CHUKWUDI019</td>\n",
       "      <td>FDI04_CHUKWUDI019</td>\n",
       "      <td>NaN</td>\n",
       "      <td>Normal Fat</td>\n",
       "      <td>0.127660</td>\n",
       "      <td>Frozen Foods</td>\n",
       "      <td>496.36</td>\n",
       "      <td>1992</td>\n",
       "      <td>small</td>\n",
       "      <td>Cluster 1</td>\n",
       "      <td>Grocery Store</td>\n",
       "      <td>388.0710941</td>\n",
       "      <td>1977.43</td>\n",
       "    </tr>\n",
       "    <tr>\n",
       "      <th>2992</th>\n",
       "      <td>DRG37</td>\n",
       "      <td>CHUKWUDI013</td>\n",
       "      <td>DRG37_CHUKWUDI013</td>\n",
       "      <td>16.200</td>\n",
       "      <td>Low Fat</td>\n",
       "      <td>0.019362</td>\n",
       "      <td>Soft Drinks</td>\n",
       "      <td>386.74</td>\n",
       "      <td>1994</td>\n",
       "      <td>High</td>\n",
       "      <td>Cluster 3</td>\n",
       "      <td>Supermarket Type1</td>\n",
       "      <td>386.9982375</td>\n",
       "      <td>4284.42</td>\n",
       "    </tr>\n",
       "    <tr>\n",
       "      <th>2993</th>\n",
       "      <td>FDE51</td>\n",
       "      <td>CHUKWUDI013</td>\n",
       "      <td>FDE51_CHUKWUDI013</td>\n",
       "      <td>5.925</td>\n",
       "      <td>Normal Fat</td>\n",
       "      <td>0.096387</td>\n",
       "      <td>Dairy</td>\n",
       "      <td>114.02</td>\n",
       "      <td>1994</td>\n",
       "      <td>High</td>\n",
       "      <td>Cluster 3</td>\n",
       "      <td>Supermarket Type1</td>\n",
       "      <td>409.5043429</td>\n",
       "      <td>892.17</td>\n",
       "    </tr>\n",
       "  </tbody>\n",
       "</table>\n",
       "<p>2994 rows × 14 columns</p>\n",
       "</div>"
      ],
      "text/plain": [
       "     Product Identifier Supermarket Identifier Product Supermarket Identifer  \\\n",
       "0                 NCA29            CHUKWUDI046             NCA29_CHUKWUDI046   \n",
       "1                 FDG53            CHUKWUDI049             FDG53_CHUKWUDI049   \n",
       "2                 NCN05            CHUKWUDI045             NCN05_CHUKWUDI045   \n",
       "3                 NCV17            CHUKWUDI046             NCV17_CHUKWUDI046   \n",
       "4                 FDK03            CHUKWUDI045             FDK03_CHUKWUDI045   \n",
       "...                 ...                    ...                           ...   \n",
       "2989              FDK21            CHUKWUDI045             FDK21_CHUKWUDI045   \n",
       "2990              NCJ05            CHUKWUDI049             NCJ05_CHUKWUDI049   \n",
       "2991              FDI04            CHUKWUDI019             FDI04_CHUKWUDI019   \n",
       "2992              DRG37            CHUKWUDI013             DRG37_CHUKWUDI013   \n",
       "2993              FDE51            CHUKWUDI013             FDE51_CHUKWUDI013   \n",
       "\n",
       "      Product Weight Product Fat Content  Product Shelf Visibility  \\\n",
       "0             10.500              Lo Fat                  0.027276   \n",
       "1             10.000             Low Fat                  0.045928   \n",
       "2              8.235              Lo Fat                  0.014489   \n",
       "3             18.850             Low Fat                  0.016108   \n",
       "4             12.600          Normal Fat                  0.074070   \n",
       "...              ...                 ...                       ...   \n",
       "2989           7.905             Low Fat                  0.010033   \n",
       "2990          18.700             Low Fat                  0.046160   \n",
       "2991             NaN          Normal Fat                  0.127660   \n",
       "2992          16.200             Low Fat                  0.019362   \n",
       "2993           5.925          Normal Fat                  0.096387   \n",
       "\n",
       "            Product Type  Product Price Supermarket Opening Year  \\\n",
       "0              Household         428.28                     2004   \n",
       "1           Frozen Foods         345.30                     2006   \n",
       "2     Health and Hygiene         459.49                     2009   \n",
       "3     Health and Hygiene         324.41                     2004   \n",
       "4                  Dairy         635.59                     2009   \n",
       "...                  ...            ...                      ...   \n",
       "2989         Snack Foods         620.85                     2009   \n",
       "2990  Health and Hygiene         380.92                     2006   \n",
       "2991        Frozen Foods         496.36                     1992   \n",
       "2992         Soft Drinks         386.74                     1994   \n",
       "2993               Dairy         114.02                     1994   \n",
       "\n",
       "     Supermarket  Size Supermarket Location Type   Supermarket Type  \\\n",
       "0                Small                 Cluster 1  Supermarket Type1   \n",
       "1               Medium                 Cluster 1  Supermarket Type1   \n",
       "2                  NaN                 Cluster 2  Supermarket Type1   \n",
       "3                Small                 Cluster 1  Supermarket Type1   \n",
       "4                  NaN                 Cluster 2  Supermarket Type1   \n",
       "...                ...                       ...                ...   \n",
       "2989               NaN                 Cluster 2  Supermarket Type1   \n",
       "2990            Medium                 Cluster 1  Supermarket Type1   \n",
       "2991             small                 Cluster 1      Grocery Store   \n",
       "2992              High                 Cluster 3  Supermarket Type1   \n",
       "2993              High                 Cluster 3  Supermarket Type1   \n",
       "\n",
       "     Average Price per ProductType  Product Supermarket Sales  \n",
       "0                       399.999418                    8983.31  \n",
       "1                      388.0710941                    4893.63  \n",
       "2                      367.1430293                    7323.80  \n",
       "3                      367.1430293                    7541.85  \n",
       "4                      409.5043429                   11445.10  \n",
       "...                            ...                        ...  \n",
       "2989                     395.35219                    1877.56  \n",
       "2990                   367.1430293                    4192.88  \n",
       "2991                   388.0710941                    1977.43  \n",
       "2992                   386.9982375                    4284.42  \n",
       "2993                   409.5043429                     892.17  \n",
       "\n",
       "[2994 rows x 14 columns]"
      ]
     },
     "execution_count": 4,
     "metadata": {},
     "output_type": "execute_result"
    }
   ],
   "source": [
    "df"
   ]
  },
  {
   "cell_type": "markdown",
   "id": "3a47fc3d",
   "metadata": {},
   "source": [
    "# Exploring the Dataset \n",
    "\n",
    "This was done to find out the issues with the dataset that require cleaning. .shape is used to view the number of rows and columns the daaset contains."
   ]
  },
  {
   "cell_type": "code",
   "execution_count": 5,
   "id": "8d5686b0",
   "metadata": {},
   "outputs": [
    {
     "data": {
      "text/plain": [
       "(2994, 14)"
      ]
     },
     "execution_count": 5,
     "metadata": {},
     "output_type": "execute_result"
    }
   ],
   "source": [
    "# using .shape to view the structure of the dataset\n",
    "df.shape"
   ]
  },
  {
   "cell_type": "code",
   "execution_count": 6,
   "id": "ae2644c9",
   "metadata": {},
   "outputs": [
    {
     "data": {
      "text/plain": [
       "Index(['Product Identifier', 'Supermarket Identifier',\n",
       "       'Product Supermarket Identifer', 'Product Weight',\n",
       "       'Product Fat Content', 'Product Shelf Visibility', 'Product Type',\n",
       "       'Product Price', 'Supermarket Opening Year', 'Supermarket  Size',\n",
       "       'Supermarket Location Type', 'Supermarket Type',\n",
       "       'Average Price per ProductType', 'Product Supermarket Sales'],\n",
       "      dtype='object')"
      ]
     },
     "execution_count": 6,
     "metadata": {},
     "output_type": "execute_result"
    }
   ],
   "source": [
    "#using .columns to assess the column names\n",
    "df.columns"
   ]
  },
  {
   "cell_type": "markdown",
   "id": "40018760",
   "metadata": {},
   "source": [
    "# Issue 1:\n",
    "The column names are not standardized. for example, the productType does not have underscore between them, other column naes are written with space between them instead of underscore."
   ]
  },
  {
   "cell_type": "code",
   "execution_count": 6,
   "id": "1a214422",
   "metadata": {},
   "outputs": [
    {
     "data": {
      "text/plain": [
       "Product Identifier                object\n",
       "Supermarket Identifier            object\n",
       "Product Supermarket Identifer     object\n",
       "Product Weight                   float64\n",
       "Product Fat Content               object\n",
       "Product Shelf Visibility         float64\n",
       "Product Type                      object\n",
       "Product Price                    float64\n",
       "Supermarket Opening Year          object\n",
       "Supermarket  Size                 object\n",
       "Supermarket Location Type         object\n",
       "Supermarket Type                  object\n",
       "Average Price per ProductType     object\n",
       "Product Supermarket Sales        float64\n",
       "dtype: object"
      ]
     },
     "execution_count": 6,
     "metadata": {},
     "output_type": "execute_result"
    }
   ],
   "source": [
    "#check the datatpes of each column\n",
    "df.dtypes"
   ]
  },
  {
   "cell_type": "markdown",
   "id": "3b0f8e44",
   "metadata": {},
   "source": [
    "### Issue 2:\n",
    "The average price per product type is stored as an object datatype instead of float datatype, Supermarket opening year is stored as an object datatype instead of an integer. the both columns need to be converted to the right datatype"
   ]
  },
  {
   "cell_type": "markdown",
   "id": "8bf85979",
   "metadata": {},
   "source": [
    "The .info function is used to find assess the overall information about the dataset."
   ]
  },
  {
   "cell_type": "code",
   "execution_count": 7,
   "id": "c3a30084",
   "metadata": {},
   "outputs": [
    {
     "name": "stdout",
     "output_type": "stream",
     "text": [
      "<class 'pandas.core.frame.DataFrame'>\n",
      "RangeIndex: 2994 entries, 0 to 2993\n",
      "Data columns (total 14 columns):\n",
      " #   Column                         Non-Null Count  Dtype  \n",
      "---  ------                         --------------  -----  \n",
      " 0   Product Identifier             2994 non-null   object \n",
      " 1   Supermarket Identifier         2994 non-null   object \n",
      " 2   Product Supermarket Identifer  2994 non-null   object \n",
      " 3   Product Weight                 2521 non-null   float64\n",
      " 4   Product Fat Content            2994 non-null   object \n",
      " 5   Product Shelf Visibility       2994 non-null   float64\n",
      " 6   Product Type                   2994 non-null   object \n",
      " 7   Product Price                  2994 non-null   float64\n",
      " 8   Supermarket Opening Year       2994 non-null   object \n",
      " 9   Supermarket  Size              2107 non-null   object \n",
      " 10  Supermarket Location Type      2994 non-null   object \n",
      " 11  Supermarket Type               2994 non-null   object \n",
      " 12  Average Price per ProductType  2994 non-null   object \n",
      " 13  Product Supermarket Sales      2994 non-null   float64\n",
      "dtypes: float64(4), object(10)\n",
      "memory usage: 327.6+ KB\n"
     ]
    }
   ],
   "source": [
    "#view the data info, to check the colum names, count, and datatype\n",
    "df.info()"
   ]
  },
  {
   "cell_type": "code",
   "execution_count": 8,
   "id": "3e469c86",
   "metadata": {},
   "outputs": [
    {
     "data": {
      "text/plain": [
       "Product Identifier                 0\n",
       "Supermarket Identifier             0\n",
       "Product Supermarket Identifer      0\n",
       "Product Weight                   473\n",
       "Product Fat Content                0\n",
       "Product Shelf Visibility           0\n",
       "Product Type                       0\n",
       "Product Price                      0\n",
       "Supermarket Opening Year           0\n",
       "Supermarket  Size                887\n",
       "Supermarket Location Type          0\n",
       "Supermarket Type                   0\n",
       "Average Price per ProductType      0\n",
       "Product Supermarket Sales          0\n",
       "dtype: int64"
      ]
     },
     "execution_count": 8,
     "metadata": {},
     "output_type": "execute_result"
    }
   ],
   "source": [
    "#check for the null values\n",
    "df.isnull().sum()"
   ]
  },
  {
   "cell_type": "markdown",
   "id": "54a18dcb",
   "metadata": {},
   "source": [
    "### Issue 3:\n",
    "Here, I discovered that the product weight column has 473 null values while supermarket size column has 887 null values."
   ]
  },
  {
   "cell_type": "code",
   "execution_count": 9,
   "id": "46373dd5",
   "metadata": {},
   "outputs": [
    {
     "data": {
      "text/plain": [
       "0"
      ]
     },
     "execution_count": 9,
     "metadata": {},
     "output_type": "execute_result"
    }
   ],
   "source": [
    "#checking for duplicates\n",
    "df.duplicated().sum()"
   ]
  },
  {
   "cell_type": "code",
   "execution_count": 10,
   "id": "cc55c9d3",
   "metadata": {
    "scrolled": true
   },
   "outputs": [
    {
     "data": {
      "text/html": [
       "<div>\n",
       "<style scoped>\n",
       "    .dataframe tbody tr th:only-of-type {\n",
       "        vertical-align: middle;\n",
       "    }\n",
       "\n",
       "    .dataframe tbody tr th {\n",
       "        vertical-align: top;\n",
       "    }\n",
       "\n",
       "    .dataframe thead th {\n",
       "        text-align: right;\n",
       "    }\n",
       "</style>\n",
       "<table border=\"1\" class=\"dataframe\">\n",
       "  <thead>\n",
       "    <tr style=\"text-align: right;\">\n",
       "      <th></th>\n",
       "      <th>Product Identifier</th>\n",
       "      <th>Supermarket Identifier</th>\n",
       "      <th>Product Supermarket Identifer</th>\n",
       "      <th>Product Weight</th>\n",
       "      <th>Product Fat Content</th>\n",
       "      <th>Product Shelf Visibility</th>\n",
       "      <th>Product Type</th>\n",
       "      <th>Product Price</th>\n",
       "      <th>Supermarket Opening Year</th>\n",
       "      <th>Supermarket  Size</th>\n",
       "      <th>Supermarket Location Type</th>\n",
       "      <th>Supermarket Type</th>\n",
       "      <th>Average Price per ProductType</th>\n",
       "      <th>Product Supermarket Sales</th>\n",
       "    </tr>\n",
       "  </thead>\n",
       "  <tbody>\n",
       "    <tr>\n",
       "      <th>0</th>\n",
       "      <td>NCA29</td>\n",
       "      <td>CHUKWUDI046</td>\n",
       "      <td>NCA29_CHUKWUDI046</td>\n",
       "      <td>10.500</td>\n",
       "      <td>Lo Fat</td>\n",
       "      <td>0.027276</td>\n",
       "      <td>Household</td>\n",
       "      <td>428.28</td>\n",
       "      <td>2004</td>\n",
       "      <td>Small</td>\n",
       "      <td>Cluster 1</td>\n",
       "      <td>Supermarket Type1</td>\n",
       "      <td>399.999418</td>\n",
       "      <td>8983.31</td>\n",
       "    </tr>\n",
       "    <tr>\n",
       "      <th>1</th>\n",
       "      <td>FDG53</td>\n",
       "      <td>CHUKWUDI049</td>\n",
       "      <td>FDG53_CHUKWUDI049</td>\n",
       "      <td>10.000</td>\n",
       "      <td>Low Fat</td>\n",
       "      <td>0.045928</td>\n",
       "      <td>Frozen Foods</td>\n",
       "      <td>345.30</td>\n",
       "      <td>2006</td>\n",
       "      <td>Medium</td>\n",
       "      <td>Cluster 1</td>\n",
       "      <td>Supermarket Type1</td>\n",
       "      <td>388.0710941</td>\n",
       "      <td>4893.63</td>\n",
       "    </tr>\n",
       "    <tr>\n",
       "      <th>2</th>\n",
       "      <td>NCN05</td>\n",
       "      <td>CHUKWUDI045</td>\n",
       "      <td>NCN05_CHUKWUDI045</td>\n",
       "      <td>8.235</td>\n",
       "      <td>Lo Fat</td>\n",
       "      <td>0.014489</td>\n",
       "      <td>Health and Hygiene</td>\n",
       "      <td>459.49</td>\n",
       "      <td>2009</td>\n",
       "      <td>NaN</td>\n",
       "      <td>Cluster 2</td>\n",
       "      <td>Supermarket Type1</td>\n",
       "      <td>367.1430293</td>\n",
       "      <td>7323.80</td>\n",
       "    </tr>\n",
       "    <tr>\n",
       "      <th>3</th>\n",
       "      <td>NCV17</td>\n",
       "      <td>CHUKWUDI046</td>\n",
       "      <td>NCV17_CHUKWUDI046</td>\n",
       "      <td>18.850</td>\n",
       "      <td>Low Fat</td>\n",
       "      <td>0.016108</td>\n",
       "      <td>Health and Hygiene</td>\n",
       "      <td>324.41</td>\n",
       "      <td>2004</td>\n",
       "      <td>Small</td>\n",
       "      <td>Cluster 1</td>\n",
       "      <td>Supermarket Type1</td>\n",
       "      <td>367.1430293</td>\n",
       "      <td>7541.85</td>\n",
       "    </tr>\n",
       "    <tr>\n",
       "      <th>4</th>\n",
       "      <td>FDK03</td>\n",
       "      <td>CHUKWUDI045</td>\n",
       "      <td>FDK03_CHUKWUDI045</td>\n",
       "      <td>12.600</td>\n",
       "      <td>Normal Fat</td>\n",
       "      <td>0.074070</td>\n",
       "      <td>Dairy</td>\n",
       "      <td>635.59</td>\n",
       "      <td>2009</td>\n",
       "      <td>NaN</td>\n",
       "      <td>Cluster 2</td>\n",
       "      <td>Supermarket Type1</td>\n",
       "      <td>409.5043429</td>\n",
       "      <td>11445.10</td>\n",
       "    </tr>\n",
       "  </tbody>\n",
       "</table>\n",
       "</div>"
      ],
      "text/plain": [
       "  Product Identifier Supermarket Identifier Product Supermarket Identifer  \\\n",
       "0              NCA29            CHUKWUDI046             NCA29_CHUKWUDI046   \n",
       "1              FDG53            CHUKWUDI049             FDG53_CHUKWUDI049   \n",
       "2              NCN05            CHUKWUDI045             NCN05_CHUKWUDI045   \n",
       "3              NCV17            CHUKWUDI046             NCV17_CHUKWUDI046   \n",
       "4              FDK03            CHUKWUDI045             FDK03_CHUKWUDI045   \n",
       "\n",
       "   Product Weight Product Fat Content  Product Shelf Visibility  \\\n",
       "0          10.500              Lo Fat                  0.027276   \n",
       "1          10.000             Low Fat                  0.045928   \n",
       "2           8.235              Lo Fat                  0.014489   \n",
       "3          18.850             Low Fat                  0.016108   \n",
       "4          12.600          Normal Fat                  0.074070   \n",
       "\n",
       "         Product Type  Product Price Supermarket Opening Year  \\\n",
       "0           Household         428.28                     2004   \n",
       "1        Frozen Foods         345.30                     2006   \n",
       "2  Health and Hygiene         459.49                     2009   \n",
       "3  Health and Hygiene         324.41                     2004   \n",
       "4               Dairy         635.59                     2009   \n",
       "\n",
       "  Supermarket  Size Supermarket Location Type   Supermarket Type  \\\n",
       "0             Small                 Cluster 1  Supermarket Type1   \n",
       "1            Medium                 Cluster 1  Supermarket Type1   \n",
       "2               NaN                 Cluster 2  Supermarket Type1   \n",
       "3             Small                 Cluster 1  Supermarket Type1   \n",
       "4               NaN                 Cluster 2  Supermarket Type1   \n",
       "\n",
       "  Average Price per ProductType  Product Supermarket Sales  \n",
       "0                    399.999418                    8983.31  \n",
       "1                   388.0710941                    4893.63  \n",
       "2                   367.1430293                    7323.80  \n",
       "3                   367.1430293                    7541.85  \n",
       "4                   409.5043429                   11445.10  "
      ]
     },
     "execution_count": 10,
     "metadata": {},
     "output_type": "execute_result"
    }
   ],
   "source": [
    "#check the first five rows of the dataset\n",
    "df.head()"
   ]
  },
  {
   "cell_type": "code",
   "execution_count": 11,
   "id": "4a566c64",
   "metadata": {},
   "outputs": [
    {
     "data": {
      "text/html": [
       "<div>\n",
       "<style scoped>\n",
       "    .dataframe tbody tr th:only-of-type {\n",
       "        vertical-align: middle;\n",
       "    }\n",
       "\n",
       "    .dataframe tbody tr th {\n",
       "        vertical-align: top;\n",
       "    }\n",
       "\n",
       "    .dataframe thead th {\n",
       "        text-align: right;\n",
       "    }\n",
       "</style>\n",
       "<table border=\"1\" class=\"dataframe\">\n",
       "  <thead>\n",
       "    <tr style=\"text-align: right;\">\n",
       "      <th></th>\n",
       "      <th>Product Identifier</th>\n",
       "      <th>Supermarket Identifier</th>\n",
       "      <th>Product Supermarket Identifer</th>\n",
       "      <th>Product Weight</th>\n",
       "      <th>Product Fat Content</th>\n",
       "      <th>Product Shelf Visibility</th>\n",
       "      <th>Product Type</th>\n",
       "      <th>Product Price</th>\n",
       "      <th>Supermarket Opening Year</th>\n",
       "      <th>Supermarket  Size</th>\n",
       "      <th>Supermarket Location Type</th>\n",
       "      <th>Supermarket Type</th>\n",
       "      <th>Average Price per ProductType</th>\n",
       "      <th>Product Supermarket Sales</th>\n",
       "    </tr>\n",
       "  </thead>\n",
       "  <tbody>\n",
       "    <tr>\n",
       "      <th>2989</th>\n",
       "      <td>FDK21</td>\n",
       "      <td>CHUKWUDI045</td>\n",
       "      <td>FDK21_CHUKWUDI045</td>\n",
       "      <td>7.905</td>\n",
       "      <td>Low Fat</td>\n",
       "      <td>0.010033</td>\n",
       "      <td>Snack Foods</td>\n",
       "      <td>620.85</td>\n",
       "      <td>2009</td>\n",
       "      <td>NaN</td>\n",
       "      <td>Cluster 2</td>\n",
       "      <td>Supermarket Type1</td>\n",
       "      <td>395.35219</td>\n",
       "      <td>1877.56</td>\n",
       "    </tr>\n",
       "    <tr>\n",
       "      <th>2990</th>\n",
       "      <td>NCJ05</td>\n",
       "      <td>CHUKWUDI049</td>\n",
       "      <td>NCJ05_CHUKWUDI049</td>\n",
       "      <td>18.700</td>\n",
       "      <td>Low Fat</td>\n",
       "      <td>0.046160</td>\n",
       "      <td>Health and Hygiene</td>\n",
       "      <td>380.92</td>\n",
       "      <td>2006</td>\n",
       "      <td>Medium</td>\n",
       "      <td>Cluster 1</td>\n",
       "      <td>Supermarket Type1</td>\n",
       "      <td>367.1430293</td>\n",
       "      <td>4192.88</td>\n",
       "    </tr>\n",
       "    <tr>\n",
       "      <th>2991</th>\n",
       "      <td>FDI04</td>\n",
       "      <td>CHUKWUDI019</td>\n",
       "      <td>FDI04_CHUKWUDI019</td>\n",
       "      <td>NaN</td>\n",
       "      <td>Normal Fat</td>\n",
       "      <td>0.127660</td>\n",
       "      <td>Frozen Foods</td>\n",
       "      <td>496.36</td>\n",
       "      <td>1992</td>\n",
       "      <td>small</td>\n",
       "      <td>Cluster 1</td>\n",
       "      <td>Grocery Store</td>\n",
       "      <td>388.0710941</td>\n",
       "      <td>1977.43</td>\n",
       "    </tr>\n",
       "    <tr>\n",
       "      <th>2992</th>\n",
       "      <td>DRG37</td>\n",
       "      <td>CHUKWUDI013</td>\n",
       "      <td>DRG37_CHUKWUDI013</td>\n",
       "      <td>16.200</td>\n",
       "      <td>Low Fat</td>\n",
       "      <td>0.019362</td>\n",
       "      <td>Soft Drinks</td>\n",
       "      <td>386.74</td>\n",
       "      <td>1994</td>\n",
       "      <td>High</td>\n",
       "      <td>Cluster 3</td>\n",
       "      <td>Supermarket Type1</td>\n",
       "      <td>386.9982375</td>\n",
       "      <td>4284.42</td>\n",
       "    </tr>\n",
       "    <tr>\n",
       "      <th>2993</th>\n",
       "      <td>FDE51</td>\n",
       "      <td>CHUKWUDI013</td>\n",
       "      <td>FDE51_CHUKWUDI013</td>\n",
       "      <td>5.925</td>\n",
       "      <td>Normal Fat</td>\n",
       "      <td>0.096387</td>\n",
       "      <td>Dairy</td>\n",
       "      <td>114.02</td>\n",
       "      <td>1994</td>\n",
       "      <td>High</td>\n",
       "      <td>Cluster 3</td>\n",
       "      <td>Supermarket Type1</td>\n",
       "      <td>409.5043429</td>\n",
       "      <td>892.17</td>\n",
       "    </tr>\n",
       "  </tbody>\n",
       "</table>\n",
       "</div>"
      ],
      "text/plain": [
       "     Product Identifier Supermarket Identifier Product Supermarket Identifer  \\\n",
       "2989              FDK21            CHUKWUDI045             FDK21_CHUKWUDI045   \n",
       "2990              NCJ05            CHUKWUDI049             NCJ05_CHUKWUDI049   \n",
       "2991              FDI04            CHUKWUDI019             FDI04_CHUKWUDI019   \n",
       "2992              DRG37            CHUKWUDI013             DRG37_CHUKWUDI013   \n",
       "2993              FDE51            CHUKWUDI013             FDE51_CHUKWUDI013   \n",
       "\n",
       "      Product Weight Product Fat Content  Product Shelf Visibility  \\\n",
       "2989           7.905             Low Fat                  0.010033   \n",
       "2990          18.700             Low Fat                  0.046160   \n",
       "2991             NaN          Normal Fat                  0.127660   \n",
       "2992          16.200             Low Fat                  0.019362   \n",
       "2993           5.925          Normal Fat                  0.096387   \n",
       "\n",
       "            Product Type  Product Price Supermarket Opening Year  \\\n",
       "2989         Snack Foods         620.85                     2009   \n",
       "2990  Health and Hygiene         380.92                     2006   \n",
       "2991        Frozen Foods         496.36                     1992   \n",
       "2992         Soft Drinks         386.74                     1994   \n",
       "2993               Dairy         114.02                     1994   \n",
       "\n",
       "     Supermarket  Size Supermarket Location Type   Supermarket Type  \\\n",
       "2989               NaN                 Cluster 2  Supermarket Type1   \n",
       "2990            Medium                 Cluster 1  Supermarket Type1   \n",
       "2991             small                 Cluster 1      Grocery Store   \n",
       "2992              High                 Cluster 3  Supermarket Type1   \n",
       "2993              High                 Cluster 3  Supermarket Type1   \n",
       "\n",
       "     Average Price per ProductType  Product Supermarket Sales  \n",
       "2989                     395.35219                    1877.56  \n",
       "2990                   367.1430293                    4192.88  \n",
       "2991                   388.0710941                    1977.43  \n",
       "2992                   386.9982375                    4284.42  \n",
       "2993                   409.5043429                     892.17  "
      ]
     },
     "execution_count": 11,
     "metadata": {},
     "output_type": "execute_result"
    }
   ],
   "source": [
    "#check the last five rows of the dataset\n",
    "df.tail()"
   ]
  },
  {
   "cell_type": "code",
   "execution_count": 13,
   "id": "b80e0522",
   "metadata": {},
   "outputs": [
    {
     "data": {
      "text/plain": [
       "Product Identifier               1273\n",
       "Supermarket Identifier             10\n",
       "Product Supermarket Identifer    2994\n",
       "Product Weight                    376\n",
       "Product Fat Content                10\n",
       "Product Shelf Visibility         2779\n",
       "Product Type                       21\n",
       "Product Price                    2419\n",
       "Supermarket Opening Year           12\n",
       "Supermarket  Size                   6\n",
       "Supermarket Location Type           3\n",
       "Supermarket Type                    4\n",
       "Average Price per ProductType      18\n",
       "Product Supermarket Sales        1968\n",
       "dtype: int64"
      ]
     },
     "execution_count": 13,
     "metadata": {},
     "output_type": "execute_result"
    }
   ],
   "source": [
    "#check for the unique values in  the columns\n",
    "df.nunique()"
   ]
  },
  {
   "cell_type": "markdown",
   "id": "53b30eb6",
   "metadata": {},
   "source": [
    "In order to full assess the dataset in order to discovered hidden issues on each column, I used th 'value_counts() which makes more easier and faster to discover any inconsitency in a column."
   ]
  },
  {
   "cell_type": "code",
   "execution_count": 14,
   "id": "c63a9521",
   "metadata": {},
   "outputs": [
    {
     "data": {
      "text/plain": [
       "Low Fat          1816\n",
       "Normal Fat       1045\n",
       "Ultra Low fat     108\n",
       "Norml Fat           6\n",
       "Norml fat           6\n",
       "Low Ft              5\n",
       "Lo Fat              4\n",
       "L Fat               2\n",
       "L                   1\n",
       "Lw Fat              1\n",
       "Name: Product Fat Content, dtype: int64"
      ]
     },
     "execution_count": 14,
     "metadata": {},
     "output_type": "execute_result"
    }
   ],
   "source": [
    "df[\"Product Fat Content\"].value_counts()"
   ]
  },
  {
   "cell_type": "code",
   "execution_count": 15,
   "id": "34252415",
   "metadata": {},
   "outputs": [
    {
     "data": {
      "text/plain": [
       "Medium    914\n",
       "Small     806\n",
       "High      357\n",
       "medium     16\n",
       "medim       8\n",
       "small       6\n",
       "Name: Supermarket  Size, dtype: int64"
      ]
     },
     "execution_count": 15,
     "metadata": {},
     "output_type": "execute_result"
    }
   ],
   "source": [
    "df[\"Supermarket  Size\"].value_counts()"
   ]
  },
  {
   "cell_type": "code",
   "execution_count": 16,
   "id": "ec8c3ba4",
   "metadata": {},
   "outputs": [
    {
     "data": {
      "text/plain": [
       "1992    473\n",
       "2014    368\n",
       "2006    362\n",
       "1994    357\n",
       "2011    314\n",
       "2004    304\n",
       "2016    298\n",
       "2009    280\n",
       "2005    234\n",
       "s009      2\n",
       "s006      1\n",
       "s004      1\n",
       "Name: Supermarket Opening Year, dtype: int64"
      ]
     },
     "execution_count": 16,
     "metadata": {},
     "output_type": "execute_result"
    }
   ],
   "source": [
    "df['Supermarket Opening Year'].value_counts()"
   ]
  },
  {
   "cell_type": "code",
   "execution_count": 17,
   "id": "ff41781e",
   "metadata": {},
   "outputs": [
    {
     "data": {
      "text/plain": [
       "Fruits and Vegetables    454\n",
       "Snack Foods              432\n",
       "Household                349\n",
       "Frozen Foods             282\n",
       "Canned                   221\n",
       "Dairy                    193\n",
       "Health and Hygiene       186\n",
       "Baking Goods             181\n",
       "Meat                     168\n",
       "Soft Drinks              151\n",
       "Hard Drinks               87\n",
       "Breads                    81\n",
       "Others                    63\n",
       "Breakfast                 36\n",
       "Starchy Foods             25\n",
       "Seafood                   25\n",
       "Baking Good               22\n",
       "Snack Food                18\n",
       "Starchy Food              16\n",
       "Fruits and Veg             3\n",
       "Health and Hyg             1\n",
       "Name: Product Type, dtype: int64"
      ]
     },
     "execution_count": 17,
     "metadata": {},
     "output_type": "execute_result"
    }
   ],
   "source": [
    "df[\"Product Type\"].value_counts()"
   ]
  },
  {
   "cell_type": "code",
   "execution_count": 8,
   "id": "f9e4efb2",
   "metadata": {},
   "outputs": [
    {
     "data": {
      "text/plain": [
       "398.2481124         457\n",
       "395.35219           450\n",
       "399.999418          349\n",
       "388.0710941         281\n",
       "391.717633          221\n",
       "364.9189244         203\n",
       "409.5043429         193\n",
       "367.1430293         187\n",
       "390.952803          168\n",
       "386.9982375         151\n",
       "376.598806           86\n",
       "399.1672263          81\n",
       "388.6077             63\n",
       "421.2993827          41\n",
       "395.3483333          36\n",
       "401.9480488          25\n",
       "b76.598805970149      1\n",
       "b88.071094091904      1\n",
       "Name: Average Price per ProductType, dtype: int64"
      ]
     },
     "execution_count": 8,
     "metadata": {},
     "output_type": "execute_result"
    }
   ],
   "source": [
    "df['Average Price per ProductType'].value_counts()"
   ]
  },
  {
   "cell_type": "code",
   "execution_count": 18,
   "id": "ec852a26",
   "metadata": {},
   "outputs": [
    {
     "data": {
      "text/plain": [
       "10.500    34\n",
       "12.150    34\n",
       "17.600    33\n",
       "15.100    31\n",
       "12.100    30\n",
       "          ..\n",
       "6.365      1\n",
       "6.235      1\n",
       "4.880      1\n",
       "6.785      1\n",
       "5.925      1\n",
       "Name: Product Weight, Length: 376, dtype: int64"
      ]
     },
     "execution_count": 18,
     "metadata": {},
     "output_type": "execute_result"
    }
   ],
   "source": [
    "df[\"Product Weight\"].value_counts()"
   ]
  },
  {
   "cell_type": "markdown",
   "id": "0e70e7da",
   "metadata": {},
   "source": [
    "### Issue 4:\n",
    "Inconsistency in the following columns; product fat content, supermarket opening year, and supermarket size. The Average price per producct type column contains a string 'b' which resulted to the column being stored in an object type format."
   ]
  },
  {
   "cell_type": "code",
   "execution_count": 19,
   "id": "d1a2f03f",
   "metadata": {},
   "outputs": [
    {
     "data": {
      "text/html": [
       "<div>\n",
       "<style scoped>\n",
       "    .dataframe tbody tr th:only-of-type {\n",
       "        vertical-align: middle;\n",
       "    }\n",
       "\n",
       "    .dataframe tbody tr th {\n",
       "        vertical-align: top;\n",
       "    }\n",
       "\n",
       "    .dataframe thead th {\n",
       "        text-align: right;\n",
       "    }\n",
       "</style>\n",
       "<table border=\"1\" class=\"dataframe\">\n",
       "  <thead>\n",
       "    <tr style=\"text-align: right;\">\n",
       "      <th></th>\n",
       "      <th>Product Weight</th>\n",
       "      <th>Product Shelf Visibility</th>\n",
       "      <th>Product Price</th>\n",
       "      <th>Product Supermarket Sales</th>\n",
       "    </tr>\n",
       "  </thead>\n",
       "  <tbody>\n",
       "    <tr>\n",
       "      <th>count</th>\n",
       "      <td>2521.000000</td>\n",
       "      <td>2994.000000</td>\n",
       "      <td>2994.000000</td>\n",
       "      <td>2994.000000</td>\n",
       "    </tr>\n",
       "    <tr>\n",
       "      <th>mean</th>\n",
       "      <td>12.833300</td>\n",
       "      <td>0.065242</td>\n",
       "      <td>393.135665</td>\n",
       "      <td>6168.377255</td>\n",
       "    </tr>\n",
       "    <tr>\n",
       "      <th>std</th>\n",
       "      <td>4.662013</td>\n",
       "      <td>0.051478</td>\n",
       "      <td>120.023567</td>\n",
       "      <td>4491.389399</td>\n",
       "    </tr>\n",
       "    <tr>\n",
       "      <th>min</th>\n",
       "      <td>4.555000</td>\n",
       "      <td>0.000000</td>\n",
       "      <td>78.730000</td>\n",
       "      <td>83.230000</td>\n",
       "    </tr>\n",
       "    <tr>\n",
       "      <th>25%</th>\n",
       "      <td>8.770000</td>\n",
       "      <td>0.026461</td>\n",
       "      <td>310.310000</td>\n",
       "      <td>2808.427500</td>\n",
       "    </tr>\n",
       "    <tr>\n",
       "      <th>50%</th>\n",
       "      <td>12.500000</td>\n",
       "      <td>0.051954</td>\n",
       "      <td>395.400000</td>\n",
       "      <td>5467.880000</td>\n",
       "    </tr>\n",
       "    <tr>\n",
       "      <th>75%</th>\n",
       "      <td>17.000000</td>\n",
       "      <td>0.093863</td>\n",
       "      <td>465.850000</td>\n",
       "      <td>8554.697500</td>\n",
       "    </tr>\n",
       "    <tr>\n",
       "      <th>max</th>\n",
       "      <td>21.350000</td>\n",
       "      <td>0.309390</td>\n",
       "      <td>661.980000</td>\n",
       "      <td>32717.410000</td>\n",
       "    </tr>\n",
       "  </tbody>\n",
       "</table>\n",
       "</div>"
      ],
      "text/plain": [
       "       Product Weight  Product Shelf Visibility  Product Price  \\\n",
       "count     2521.000000               2994.000000    2994.000000   \n",
       "mean        12.833300                  0.065242     393.135665   \n",
       "std          4.662013                  0.051478     120.023567   \n",
       "min          4.555000                  0.000000      78.730000   \n",
       "25%          8.770000                  0.026461     310.310000   \n",
       "50%         12.500000                  0.051954     395.400000   \n",
       "75%         17.000000                  0.093863     465.850000   \n",
       "max         21.350000                  0.309390     661.980000   \n",
       "\n",
       "       Product Supermarket Sales  \n",
       "count                2994.000000  \n",
       "mean                 6168.377255  \n",
       "std                  4491.389399  \n",
       "min                    83.230000  \n",
       "25%                  2808.427500  \n",
       "50%                  5467.880000  \n",
       "75%                  8554.697500  \n",
       "max                 32717.410000  "
      ]
     },
     "execution_count": 19,
     "metadata": {},
     "output_type": "execute_result"
    }
   ],
   "source": [
    "#Using .describe to get the data statistics\n",
    "df.describe()"
   ]
  },
  {
   "cell_type": "markdown",
   "id": "37bb94f4",
   "metadata": {},
   "source": [
    "The summary statistics of the Supermarket opening year and average price per year columns are not available due to the fact that both were stored as object datatype."
   ]
  },
  {
   "cell_type": "markdown",
   "id": "e9dd55f5",
   "metadata": {},
   "source": [
    "# Data cleaning "
   ]
  },
  {
   "cell_type": "markdown",
   "id": "3606b353",
   "metadata": {},
   "source": [
    "It is always advisable to make a copy of any dataset you are working before you start cleaning the dataset. this is so you can have a copy to fall back to when a mistake occur during data cleaning which is always inevitable."
   ]
  },
  {
   "cell_type": "code",
   "execution_count": 9,
   "id": "0f23ebfa",
   "metadata": {},
   "outputs": [],
   "source": [
    "#make a copy of the dataset\n",
    "df_clean = df.copy()"
   ]
  },
  {
   "cell_type": "code",
   "execution_count": 10,
   "id": "3037a55d",
   "metadata": {
    "scrolled": true
   },
   "outputs": [
    {
     "data": {
      "text/html": [
       "<div>\n",
       "<style scoped>\n",
       "    .dataframe tbody tr th:only-of-type {\n",
       "        vertical-align: middle;\n",
       "    }\n",
       "\n",
       "    .dataframe tbody tr th {\n",
       "        vertical-align: top;\n",
       "    }\n",
       "\n",
       "    .dataframe thead th {\n",
       "        text-align: right;\n",
       "    }\n",
       "</style>\n",
       "<table border=\"1\" class=\"dataframe\">\n",
       "  <thead>\n",
       "    <tr style=\"text-align: right;\">\n",
       "      <th></th>\n",
       "      <th>Product Identifier</th>\n",
       "      <th>Supermarket Identifier</th>\n",
       "      <th>Product Supermarket Identifer</th>\n",
       "      <th>Product Weight</th>\n",
       "      <th>Product Fat Content</th>\n",
       "      <th>Product Shelf Visibility</th>\n",
       "      <th>Product Type</th>\n",
       "      <th>Product Price</th>\n",
       "      <th>Supermarket Opening Year</th>\n",
       "      <th>Supermarket  Size</th>\n",
       "      <th>Supermarket Location Type</th>\n",
       "      <th>Supermarket Type</th>\n",
       "      <th>Average Price per ProductType</th>\n",
       "      <th>Product Supermarket Sales</th>\n",
       "    </tr>\n",
       "  </thead>\n",
       "  <tbody>\n",
       "    <tr>\n",
       "      <th>0</th>\n",
       "      <td>NCA29</td>\n",
       "      <td>CHUKWUDI046</td>\n",
       "      <td>NCA29_CHUKWUDI046</td>\n",
       "      <td>10.500</td>\n",
       "      <td>Lo Fat</td>\n",
       "      <td>0.027276</td>\n",
       "      <td>Household</td>\n",
       "      <td>428.28</td>\n",
       "      <td>2004</td>\n",
       "      <td>Small</td>\n",
       "      <td>Cluster 1</td>\n",
       "      <td>Supermarket Type1</td>\n",
       "      <td>399.999418</td>\n",
       "      <td>8983.31</td>\n",
       "    </tr>\n",
       "    <tr>\n",
       "      <th>1</th>\n",
       "      <td>FDG53</td>\n",
       "      <td>CHUKWUDI049</td>\n",
       "      <td>FDG53_CHUKWUDI049</td>\n",
       "      <td>10.000</td>\n",
       "      <td>Low Fat</td>\n",
       "      <td>0.045928</td>\n",
       "      <td>Frozen Foods</td>\n",
       "      <td>345.30</td>\n",
       "      <td>2006</td>\n",
       "      <td>Medium</td>\n",
       "      <td>Cluster 1</td>\n",
       "      <td>Supermarket Type1</td>\n",
       "      <td>388.0710941</td>\n",
       "      <td>4893.63</td>\n",
       "    </tr>\n",
       "    <tr>\n",
       "      <th>2</th>\n",
       "      <td>NCN05</td>\n",
       "      <td>CHUKWUDI045</td>\n",
       "      <td>NCN05_CHUKWUDI045</td>\n",
       "      <td>8.235</td>\n",
       "      <td>Lo Fat</td>\n",
       "      <td>0.014489</td>\n",
       "      <td>Health and Hygiene</td>\n",
       "      <td>459.49</td>\n",
       "      <td>2009</td>\n",
       "      <td>NaN</td>\n",
       "      <td>Cluster 2</td>\n",
       "      <td>Supermarket Type1</td>\n",
       "      <td>367.1430293</td>\n",
       "      <td>7323.80</td>\n",
       "    </tr>\n",
       "    <tr>\n",
       "      <th>3</th>\n",
       "      <td>NCV17</td>\n",
       "      <td>CHUKWUDI046</td>\n",
       "      <td>NCV17_CHUKWUDI046</td>\n",
       "      <td>18.850</td>\n",
       "      <td>Low Fat</td>\n",
       "      <td>0.016108</td>\n",
       "      <td>Health and Hygiene</td>\n",
       "      <td>324.41</td>\n",
       "      <td>2004</td>\n",
       "      <td>Small</td>\n",
       "      <td>Cluster 1</td>\n",
       "      <td>Supermarket Type1</td>\n",
       "      <td>367.1430293</td>\n",
       "      <td>7541.85</td>\n",
       "    </tr>\n",
       "    <tr>\n",
       "      <th>4</th>\n",
       "      <td>FDK03</td>\n",
       "      <td>CHUKWUDI045</td>\n",
       "      <td>FDK03_CHUKWUDI045</td>\n",
       "      <td>12.600</td>\n",
       "      <td>Normal Fat</td>\n",
       "      <td>0.074070</td>\n",
       "      <td>Dairy</td>\n",
       "      <td>635.59</td>\n",
       "      <td>2009</td>\n",
       "      <td>NaN</td>\n",
       "      <td>Cluster 2</td>\n",
       "      <td>Supermarket Type1</td>\n",
       "      <td>409.5043429</td>\n",
       "      <td>11445.10</td>\n",
       "    </tr>\n",
       "    <tr>\n",
       "      <th>...</th>\n",
       "      <td>...</td>\n",
       "      <td>...</td>\n",
       "      <td>...</td>\n",
       "      <td>...</td>\n",
       "      <td>...</td>\n",
       "      <td>...</td>\n",
       "      <td>...</td>\n",
       "      <td>...</td>\n",
       "      <td>...</td>\n",
       "      <td>...</td>\n",
       "      <td>...</td>\n",
       "      <td>...</td>\n",
       "      <td>...</td>\n",
       "      <td>...</td>\n",
       "    </tr>\n",
       "    <tr>\n",
       "      <th>2989</th>\n",
       "      <td>FDK21</td>\n",
       "      <td>CHUKWUDI045</td>\n",
       "      <td>FDK21_CHUKWUDI045</td>\n",
       "      <td>7.905</td>\n",
       "      <td>Low Fat</td>\n",
       "      <td>0.010033</td>\n",
       "      <td>Snack Foods</td>\n",
       "      <td>620.85</td>\n",
       "      <td>2009</td>\n",
       "      <td>NaN</td>\n",
       "      <td>Cluster 2</td>\n",
       "      <td>Supermarket Type1</td>\n",
       "      <td>395.35219</td>\n",
       "      <td>1877.56</td>\n",
       "    </tr>\n",
       "    <tr>\n",
       "      <th>2990</th>\n",
       "      <td>NCJ05</td>\n",
       "      <td>CHUKWUDI049</td>\n",
       "      <td>NCJ05_CHUKWUDI049</td>\n",
       "      <td>18.700</td>\n",
       "      <td>Low Fat</td>\n",
       "      <td>0.046160</td>\n",
       "      <td>Health and Hygiene</td>\n",
       "      <td>380.92</td>\n",
       "      <td>2006</td>\n",
       "      <td>Medium</td>\n",
       "      <td>Cluster 1</td>\n",
       "      <td>Supermarket Type1</td>\n",
       "      <td>367.1430293</td>\n",
       "      <td>4192.88</td>\n",
       "    </tr>\n",
       "    <tr>\n",
       "      <th>2991</th>\n",
       "      <td>FDI04</td>\n",
       "      <td>CHUKWUDI019</td>\n",
       "      <td>FDI04_CHUKWUDI019</td>\n",
       "      <td>NaN</td>\n",
       "      <td>Normal Fat</td>\n",
       "      <td>0.127660</td>\n",
       "      <td>Frozen Foods</td>\n",
       "      <td>496.36</td>\n",
       "      <td>1992</td>\n",
       "      <td>small</td>\n",
       "      <td>Cluster 1</td>\n",
       "      <td>Grocery Store</td>\n",
       "      <td>388.0710941</td>\n",
       "      <td>1977.43</td>\n",
       "    </tr>\n",
       "    <tr>\n",
       "      <th>2992</th>\n",
       "      <td>DRG37</td>\n",
       "      <td>CHUKWUDI013</td>\n",
       "      <td>DRG37_CHUKWUDI013</td>\n",
       "      <td>16.200</td>\n",
       "      <td>Low Fat</td>\n",
       "      <td>0.019362</td>\n",
       "      <td>Soft Drinks</td>\n",
       "      <td>386.74</td>\n",
       "      <td>1994</td>\n",
       "      <td>High</td>\n",
       "      <td>Cluster 3</td>\n",
       "      <td>Supermarket Type1</td>\n",
       "      <td>386.9982375</td>\n",
       "      <td>4284.42</td>\n",
       "    </tr>\n",
       "    <tr>\n",
       "      <th>2993</th>\n",
       "      <td>FDE51</td>\n",
       "      <td>CHUKWUDI013</td>\n",
       "      <td>FDE51_CHUKWUDI013</td>\n",
       "      <td>5.925</td>\n",
       "      <td>Normal Fat</td>\n",
       "      <td>0.096387</td>\n",
       "      <td>Dairy</td>\n",
       "      <td>114.02</td>\n",
       "      <td>1994</td>\n",
       "      <td>High</td>\n",
       "      <td>Cluster 3</td>\n",
       "      <td>Supermarket Type1</td>\n",
       "      <td>409.5043429</td>\n",
       "      <td>892.17</td>\n",
       "    </tr>\n",
       "  </tbody>\n",
       "</table>\n",
       "<p>2994 rows × 14 columns</p>\n",
       "</div>"
      ],
      "text/plain": [
       "     Product Identifier Supermarket Identifier Product Supermarket Identifer  \\\n",
       "0                 NCA29            CHUKWUDI046             NCA29_CHUKWUDI046   \n",
       "1                 FDG53            CHUKWUDI049             FDG53_CHUKWUDI049   \n",
       "2                 NCN05            CHUKWUDI045             NCN05_CHUKWUDI045   \n",
       "3                 NCV17            CHUKWUDI046             NCV17_CHUKWUDI046   \n",
       "4                 FDK03            CHUKWUDI045             FDK03_CHUKWUDI045   \n",
       "...                 ...                    ...                           ...   \n",
       "2989              FDK21            CHUKWUDI045             FDK21_CHUKWUDI045   \n",
       "2990              NCJ05            CHUKWUDI049             NCJ05_CHUKWUDI049   \n",
       "2991              FDI04            CHUKWUDI019             FDI04_CHUKWUDI019   \n",
       "2992              DRG37            CHUKWUDI013             DRG37_CHUKWUDI013   \n",
       "2993              FDE51            CHUKWUDI013             FDE51_CHUKWUDI013   \n",
       "\n",
       "      Product Weight Product Fat Content  Product Shelf Visibility  \\\n",
       "0             10.500              Lo Fat                  0.027276   \n",
       "1             10.000             Low Fat                  0.045928   \n",
       "2              8.235              Lo Fat                  0.014489   \n",
       "3             18.850             Low Fat                  0.016108   \n",
       "4             12.600          Normal Fat                  0.074070   \n",
       "...              ...                 ...                       ...   \n",
       "2989           7.905             Low Fat                  0.010033   \n",
       "2990          18.700             Low Fat                  0.046160   \n",
       "2991             NaN          Normal Fat                  0.127660   \n",
       "2992          16.200             Low Fat                  0.019362   \n",
       "2993           5.925          Normal Fat                  0.096387   \n",
       "\n",
       "            Product Type  Product Price Supermarket Opening Year  \\\n",
       "0              Household         428.28                     2004   \n",
       "1           Frozen Foods         345.30                     2006   \n",
       "2     Health and Hygiene         459.49                     2009   \n",
       "3     Health and Hygiene         324.41                     2004   \n",
       "4                  Dairy         635.59                     2009   \n",
       "...                  ...            ...                      ...   \n",
       "2989         Snack Foods         620.85                     2009   \n",
       "2990  Health and Hygiene         380.92                     2006   \n",
       "2991        Frozen Foods         496.36                     1992   \n",
       "2992         Soft Drinks         386.74                     1994   \n",
       "2993               Dairy         114.02                     1994   \n",
       "\n",
       "     Supermarket  Size Supermarket Location Type   Supermarket Type  \\\n",
       "0                Small                 Cluster 1  Supermarket Type1   \n",
       "1               Medium                 Cluster 1  Supermarket Type1   \n",
       "2                  NaN                 Cluster 2  Supermarket Type1   \n",
       "3                Small                 Cluster 1  Supermarket Type1   \n",
       "4                  NaN                 Cluster 2  Supermarket Type1   \n",
       "...                ...                       ...                ...   \n",
       "2989               NaN                 Cluster 2  Supermarket Type1   \n",
       "2990            Medium                 Cluster 1  Supermarket Type1   \n",
       "2991             small                 Cluster 1      Grocery Store   \n",
       "2992              High                 Cluster 3  Supermarket Type1   \n",
       "2993              High                 Cluster 3  Supermarket Type1   \n",
       "\n",
       "     Average Price per ProductType  Product Supermarket Sales  \n",
       "0                       399.999418                    8983.31  \n",
       "1                      388.0710941                    4893.63  \n",
       "2                      367.1430293                    7323.80  \n",
       "3                      367.1430293                    7541.85  \n",
       "4                      409.5043429                   11445.10  \n",
       "...                            ...                        ...  \n",
       "2989                     395.35219                    1877.56  \n",
       "2990                   367.1430293                    4192.88  \n",
       "2991                   388.0710941                    1977.43  \n",
       "2992                   386.9982375                    4284.42  \n",
       "2993                   409.5043429                     892.17  \n",
       "\n",
       "[2994 rows x 14 columns]"
      ]
     },
     "execution_count": 10,
     "metadata": {},
     "output_type": "execute_result"
    }
   ],
   "source": [
    "df_clean"
   ]
  },
  {
   "cell_type": "code",
   "execution_count": 11,
   "id": "e9dd42a0",
   "metadata": {},
   "outputs": [],
   "source": [
    "# fill in the spaces with an underscore\n",
    "df_clean.columns = df.columns.str.replace(' ', '_')"
   ]
  },
  {
   "cell_type": "code",
   "execution_count": 12,
   "id": "6db17487",
   "metadata": {},
   "outputs": [
    {
     "data": {
      "text/plain": [
       "Index(['Product_Identifier', 'Supermarket_Identifier',\n",
       "       'Product_Supermarket_Identifer', 'Product_Weight',\n",
       "       'Product_Fat_Content', 'Product_Shelf_Visibility', 'Product_Type',\n",
       "       'Product_Price', 'Supermarket_Opening_Year', 'Supermarket__Size',\n",
       "       'Supermarket_Location_Type', 'Supermarket_Type',\n",
       "       'Average_Price_per_ProductType', 'Product_Supermarket_Sales'],\n",
       "      dtype='object')"
      ]
     },
     "execution_count": 12,
     "metadata": {},
     "output_type": "execute_result"
    }
   ],
   "source": [
    "df_clean.columns"
   ]
  },
  {
   "cell_type": "markdown",
   "id": "43dd6985",
   "metadata": {},
   "source": [
    "There are columns that are irrelevant to our analysis: Product identifier and supermarket identifier columns. these two columns were combined in a single column. so therefore, I have no need of those columns since they are also availble in a single column. product identifier and supermarket identifier are dropped using .drop()."
   ]
  },
  {
   "cell_type": "code",
   "execution_count": 13,
   "id": "0e55a6d8",
   "metadata": {},
   "outputs": [],
   "source": [
    "to_drop = ['Product_Identifier', 'Supermarket_Identifier']\n",
    "df_clean = df_clean.drop(to_drop, axis=1)"
   ]
  },
  {
   "cell_type": "code",
   "execution_count": 14,
   "id": "b51a4b06",
   "metadata": {},
   "outputs": [
    {
     "data": {
      "text/html": [
       "<div>\n",
       "<style scoped>\n",
       "    .dataframe tbody tr th:only-of-type {\n",
       "        vertical-align: middle;\n",
       "    }\n",
       "\n",
       "    .dataframe tbody tr th {\n",
       "        vertical-align: top;\n",
       "    }\n",
       "\n",
       "    .dataframe thead th {\n",
       "        text-align: right;\n",
       "    }\n",
       "</style>\n",
       "<table border=\"1\" class=\"dataframe\">\n",
       "  <thead>\n",
       "    <tr style=\"text-align: right;\">\n",
       "      <th></th>\n",
       "      <th>Product_Supermarket_Identifer</th>\n",
       "      <th>Product_Weight</th>\n",
       "      <th>Product_Fat_Content</th>\n",
       "      <th>Product_Shelf_Visibility</th>\n",
       "      <th>Product_Type</th>\n",
       "      <th>Product_Price</th>\n",
       "      <th>Supermarket_Opening_Year</th>\n",
       "      <th>Supermarket__Size</th>\n",
       "      <th>Supermarket_Location_Type</th>\n",
       "      <th>Supermarket_Type</th>\n",
       "      <th>Average_Price_per_ProductType</th>\n",
       "      <th>Product_Supermarket_Sales</th>\n",
       "    </tr>\n",
       "  </thead>\n",
       "  <tbody>\n",
       "    <tr>\n",
       "      <th>0</th>\n",
       "      <td>NCA29_CHUKWUDI046</td>\n",
       "      <td>10.500</td>\n",
       "      <td>Lo Fat</td>\n",
       "      <td>0.027276</td>\n",
       "      <td>Household</td>\n",
       "      <td>428.28</td>\n",
       "      <td>2004</td>\n",
       "      <td>Small</td>\n",
       "      <td>Cluster 1</td>\n",
       "      <td>Supermarket Type1</td>\n",
       "      <td>399.999418</td>\n",
       "      <td>8983.31</td>\n",
       "    </tr>\n",
       "    <tr>\n",
       "      <th>1</th>\n",
       "      <td>FDG53_CHUKWUDI049</td>\n",
       "      <td>10.000</td>\n",
       "      <td>Low Fat</td>\n",
       "      <td>0.045928</td>\n",
       "      <td>Frozen Foods</td>\n",
       "      <td>345.30</td>\n",
       "      <td>2006</td>\n",
       "      <td>Medium</td>\n",
       "      <td>Cluster 1</td>\n",
       "      <td>Supermarket Type1</td>\n",
       "      <td>388.0710941</td>\n",
       "      <td>4893.63</td>\n",
       "    </tr>\n",
       "    <tr>\n",
       "      <th>2</th>\n",
       "      <td>NCN05_CHUKWUDI045</td>\n",
       "      <td>8.235</td>\n",
       "      <td>Lo Fat</td>\n",
       "      <td>0.014489</td>\n",
       "      <td>Health and Hygiene</td>\n",
       "      <td>459.49</td>\n",
       "      <td>2009</td>\n",
       "      <td>NaN</td>\n",
       "      <td>Cluster 2</td>\n",
       "      <td>Supermarket Type1</td>\n",
       "      <td>367.1430293</td>\n",
       "      <td>7323.80</td>\n",
       "    </tr>\n",
       "    <tr>\n",
       "      <th>3</th>\n",
       "      <td>NCV17_CHUKWUDI046</td>\n",
       "      <td>18.850</td>\n",
       "      <td>Low Fat</td>\n",
       "      <td>0.016108</td>\n",
       "      <td>Health and Hygiene</td>\n",
       "      <td>324.41</td>\n",
       "      <td>2004</td>\n",
       "      <td>Small</td>\n",
       "      <td>Cluster 1</td>\n",
       "      <td>Supermarket Type1</td>\n",
       "      <td>367.1430293</td>\n",
       "      <td>7541.85</td>\n",
       "    </tr>\n",
       "    <tr>\n",
       "      <th>4</th>\n",
       "      <td>FDK03_CHUKWUDI045</td>\n",
       "      <td>12.600</td>\n",
       "      <td>Normal Fat</td>\n",
       "      <td>0.074070</td>\n",
       "      <td>Dairy</td>\n",
       "      <td>635.59</td>\n",
       "      <td>2009</td>\n",
       "      <td>NaN</td>\n",
       "      <td>Cluster 2</td>\n",
       "      <td>Supermarket Type1</td>\n",
       "      <td>409.5043429</td>\n",
       "      <td>11445.10</td>\n",
       "    </tr>\n",
       "    <tr>\n",
       "      <th>...</th>\n",
       "      <td>...</td>\n",
       "      <td>...</td>\n",
       "      <td>...</td>\n",
       "      <td>...</td>\n",
       "      <td>...</td>\n",
       "      <td>...</td>\n",
       "      <td>...</td>\n",
       "      <td>...</td>\n",
       "      <td>...</td>\n",
       "      <td>...</td>\n",
       "      <td>...</td>\n",
       "      <td>...</td>\n",
       "    </tr>\n",
       "    <tr>\n",
       "      <th>2989</th>\n",
       "      <td>FDK21_CHUKWUDI045</td>\n",
       "      <td>7.905</td>\n",
       "      <td>Low Fat</td>\n",
       "      <td>0.010033</td>\n",
       "      <td>Snack Foods</td>\n",
       "      <td>620.85</td>\n",
       "      <td>2009</td>\n",
       "      <td>NaN</td>\n",
       "      <td>Cluster 2</td>\n",
       "      <td>Supermarket Type1</td>\n",
       "      <td>395.35219</td>\n",
       "      <td>1877.56</td>\n",
       "    </tr>\n",
       "    <tr>\n",
       "      <th>2990</th>\n",
       "      <td>NCJ05_CHUKWUDI049</td>\n",
       "      <td>18.700</td>\n",
       "      <td>Low Fat</td>\n",
       "      <td>0.046160</td>\n",
       "      <td>Health and Hygiene</td>\n",
       "      <td>380.92</td>\n",
       "      <td>2006</td>\n",
       "      <td>Medium</td>\n",
       "      <td>Cluster 1</td>\n",
       "      <td>Supermarket Type1</td>\n",
       "      <td>367.1430293</td>\n",
       "      <td>4192.88</td>\n",
       "    </tr>\n",
       "    <tr>\n",
       "      <th>2991</th>\n",
       "      <td>FDI04_CHUKWUDI019</td>\n",
       "      <td>NaN</td>\n",
       "      <td>Normal Fat</td>\n",
       "      <td>0.127660</td>\n",
       "      <td>Frozen Foods</td>\n",
       "      <td>496.36</td>\n",
       "      <td>1992</td>\n",
       "      <td>small</td>\n",
       "      <td>Cluster 1</td>\n",
       "      <td>Grocery Store</td>\n",
       "      <td>388.0710941</td>\n",
       "      <td>1977.43</td>\n",
       "    </tr>\n",
       "    <tr>\n",
       "      <th>2992</th>\n",
       "      <td>DRG37_CHUKWUDI013</td>\n",
       "      <td>16.200</td>\n",
       "      <td>Low Fat</td>\n",
       "      <td>0.019362</td>\n",
       "      <td>Soft Drinks</td>\n",
       "      <td>386.74</td>\n",
       "      <td>1994</td>\n",
       "      <td>High</td>\n",
       "      <td>Cluster 3</td>\n",
       "      <td>Supermarket Type1</td>\n",
       "      <td>386.9982375</td>\n",
       "      <td>4284.42</td>\n",
       "    </tr>\n",
       "    <tr>\n",
       "      <th>2993</th>\n",
       "      <td>FDE51_CHUKWUDI013</td>\n",
       "      <td>5.925</td>\n",
       "      <td>Normal Fat</td>\n",
       "      <td>0.096387</td>\n",
       "      <td>Dairy</td>\n",
       "      <td>114.02</td>\n",
       "      <td>1994</td>\n",
       "      <td>High</td>\n",
       "      <td>Cluster 3</td>\n",
       "      <td>Supermarket Type1</td>\n",
       "      <td>409.5043429</td>\n",
       "      <td>892.17</td>\n",
       "    </tr>\n",
       "  </tbody>\n",
       "</table>\n",
       "<p>2994 rows × 12 columns</p>\n",
       "</div>"
      ],
      "text/plain": [
       "     Product_Supermarket_Identifer  Product_Weight Product_Fat_Content  \\\n",
       "0                NCA29_CHUKWUDI046          10.500              Lo Fat   \n",
       "1                FDG53_CHUKWUDI049          10.000             Low Fat   \n",
       "2                NCN05_CHUKWUDI045           8.235              Lo Fat   \n",
       "3                NCV17_CHUKWUDI046          18.850             Low Fat   \n",
       "4                FDK03_CHUKWUDI045          12.600          Normal Fat   \n",
       "...                            ...             ...                 ...   \n",
       "2989             FDK21_CHUKWUDI045           7.905             Low Fat   \n",
       "2990             NCJ05_CHUKWUDI049          18.700             Low Fat   \n",
       "2991             FDI04_CHUKWUDI019             NaN          Normal Fat   \n",
       "2992             DRG37_CHUKWUDI013          16.200             Low Fat   \n",
       "2993             FDE51_CHUKWUDI013           5.925          Normal Fat   \n",
       "\n",
       "      Product_Shelf_Visibility        Product_Type  Product_Price  \\\n",
       "0                     0.027276           Household         428.28   \n",
       "1                     0.045928        Frozen Foods         345.30   \n",
       "2                     0.014489  Health and Hygiene         459.49   \n",
       "3                     0.016108  Health and Hygiene         324.41   \n",
       "4                     0.074070               Dairy         635.59   \n",
       "...                        ...                 ...            ...   \n",
       "2989                  0.010033         Snack Foods         620.85   \n",
       "2990                  0.046160  Health and Hygiene         380.92   \n",
       "2991                  0.127660        Frozen Foods         496.36   \n",
       "2992                  0.019362         Soft Drinks         386.74   \n",
       "2993                  0.096387               Dairy         114.02   \n",
       "\n",
       "     Supermarket_Opening_Year Supermarket__Size Supermarket_Location_Type  \\\n",
       "0                        2004             Small                 Cluster 1   \n",
       "1                        2006            Medium                 Cluster 1   \n",
       "2                        2009               NaN                 Cluster 2   \n",
       "3                        2004             Small                 Cluster 1   \n",
       "4                        2009               NaN                 Cluster 2   \n",
       "...                       ...               ...                       ...   \n",
       "2989                     2009               NaN                 Cluster 2   \n",
       "2990                     2006            Medium                 Cluster 1   \n",
       "2991                     1992             small                 Cluster 1   \n",
       "2992                     1994              High                 Cluster 3   \n",
       "2993                     1994              High                 Cluster 3   \n",
       "\n",
       "       Supermarket_Type Average_Price_per_ProductType  \\\n",
       "0     Supermarket Type1                    399.999418   \n",
       "1     Supermarket Type1                   388.0710941   \n",
       "2     Supermarket Type1                   367.1430293   \n",
       "3     Supermarket Type1                   367.1430293   \n",
       "4     Supermarket Type1                   409.5043429   \n",
       "...                 ...                           ...   \n",
       "2989  Supermarket Type1                     395.35219   \n",
       "2990  Supermarket Type1                   367.1430293   \n",
       "2991      Grocery Store                   388.0710941   \n",
       "2992  Supermarket Type1                   386.9982375   \n",
       "2993  Supermarket Type1                   409.5043429   \n",
       "\n",
       "      Product_Supermarket_Sales  \n",
       "0                       8983.31  \n",
       "1                       4893.63  \n",
       "2                       7323.80  \n",
       "3                       7541.85  \n",
       "4                      11445.10  \n",
       "...                         ...  \n",
       "2989                    1877.56  \n",
       "2990                    4192.88  \n",
       "2991                    1977.43  \n",
       "2992                    4284.42  \n",
       "2993                     892.17  \n",
       "\n",
       "[2994 rows x 12 columns]"
      ]
     },
     "execution_count": 14,
     "metadata": {},
     "output_type": "execute_result"
    }
   ],
   "source": [
    "# check for change\n",
    "df_clean"
   ]
  },
  {
   "cell_type": "code",
   "execution_count": 15,
   "id": "dd048869",
   "metadata": {},
   "outputs": [],
   "source": [
    "#correcting the inconsistency in the product_fat_content column\n",
    "Product_Fat_Content_replace = {\n",
    "    'Low Ft.*|Lw Fat.*|Lo Fat.*|L Fat.*|L.*':'Low Fat',\n",
    "    'Norml.*|Normal.*':'Normal Fat'\n",
    "}"
   ]
  },
  {
   "cell_type": "code",
   "execution_count": 16,
   "id": "905c7db6",
   "metadata": {},
   "outputs": [],
   "source": [
    "# replacing the product_fat_content correction\n",
    "df_clean[\"Product_Fat_Content\"] = df_clean[\"Product_Fat_Content\"].replace(Product_Fat_Content_replace, regex=True)"
   ]
  },
  {
   "cell_type": "code",
   "execution_count": 17,
   "id": "63cb10e9",
   "metadata": {},
   "outputs": [
    {
     "data": {
      "text/plain": [
       "Low Fat          1829\n",
       "Normal Fat       1057\n",
       "Ultra Low Fat     108\n",
       "Name: Product_Fat_Content, dtype: int64"
      ]
     },
     "execution_count": 17,
     "metadata": {},
     "output_type": "execute_result"
    }
   ],
   "source": [
    "#check for change\n",
    "df_clean[\"Product_Fat_Content\"].value_counts()"
   ]
  },
  {
   "cell_type": "code",
   "execution_count": 18,
   "id": "3875dc6f",
   "metadata": {},
   "outputs": [],
   "source": [
    "#correcting the inconsistency in the product_type column\n",
    "Product_Type_replace = {\n",
    "    'Fruits and Veg.*':'Fruits and Vegetables',\n",
    "    'Health and Hyg.*':'Health and Hygiene',\n",
    "    'Snack Food.*':'Snack Foods',\n",
    "    'Baking Good.*':'Baking Goods',\n",
    "    'Starchy Food.*':'Starchy Foods'\n",
    "}"
   ]
  },
  {
   "cell_type": "code",
   "execution_count": 19,
   "id": "3c497ab1",
   "metadata": {},
   "outputs": [],
   "source": [
    "#replacing the corrected values\n",
    "df_clean[\"Product_Type\"] = df_clean[\"Product_Type\"].replace(Product_Type_replace, regex=True)"
   ]
  },
  {
   "cell_type": "code",
   "execution_count": 20,
   "id": "8793c00e",
   "metadata": {},
   "outputs": [
    {
     "data": {
      "text/plain": [
       "Fruits and Vegetables    457\n",
       "Snack Foods              450\n",
       "Household                349\n",
       "Frozen Foods             282\n",
       "Canned                   221\n",
       "Baking Goods             203\n",
       "Dairy                    193\n",
       "Health and Hygiene       187\n",
       "Meat                     168\n",
       "Soft Drinks              151\n",
       "Hard Drinks               87\n",
       "Breads                    81\n",
       "Others                    63\n",
       "Starchy Foods             41\n",
       "Breakfast                 36\n",
       "Seafood                   25\n",
       "Name: Product_Type, dtype: int64"
      ]
     },
     "execution_count": 20,
     "metadata": {},
     "output_type": "execute_result"
    }
   ],
   "source": [
    "#check for change\n",
    "df_clean[\"Product_Type\"].value_counts()"
   ]
  },
  {
   "cell_type": "code",
   "execution_count": 22,
   "id": "90fdcbdb",
   "metadata": {},
   "outputs": [],
   "source": [
    "Supermarket_opening_Year_replace = {\n",
    "    's009.*':2009,\n",
    "    's006.*':2006,\n",
    "    's004.*':2004\n",
    "}"
   ]
  },
  {
   "cell_type": "code",
   "execution_count": 23,
   "id": "d1c3f417",
   "metadata": {},
   "outputs": [],
   "source": [
    "df_clean[\"Supermarket_Opening_Year\"] = df_clean[\"Supermarket_Opening_Year\"].replace(Supermarket_opening_Year_replace, regex=True)"
   ]
  },
  {
   "cell_type": "code",
   "execution_count": 24,
   "id": "7d1a6090",
   "metadata": {},
   "outputs": [
    {
     "data": {
      "text/plain": [
       "1992    473\n",
       "2014    368\n",
       "2006    362\n",
       "1994    357\n",
       "2011    314\n",
       "2004    304\n",
       "2016    298\n",
       "2009    280\n",
       "2005    234\n",
       "2009      2\n",
       "2006      1\n",
       "2004      1\n",
       "Name: Supermarket_Opening_Year, dtype: int64"
      ]
     },
     "execution_count": 24,
     "metadata": {},
     "output_type": "execute_result"
    }
   ],
   "source": [
    "#check for change\n",
    "df_clean[\"Supermarket_Opening_Year\"].value_counts()"
   ]
  },
  {
   "cell_type": "code",
   "execution_count": 25,
   "id": "d605444f",
   "metadata": {},
   "outputs": [],
   "source": [
    "# convert the Supermarket opening year column to int64\n",
    "df_clean['Supermarket_Opening_Year'] = df_clean['Supermarket_Opening_Year'].astype('int64')"
   ]
  },
  {
   "cell_type": "code",
   "execution_count": 26,
   "id": "242e1f53",
   "metadata": {},
   "outputs": [
    {
     "data": {
      "text/plain": [
       "dtype('int64')"
      ]
     },
     "execution_count": 26,
     "metadata": {},
     "output_type": "execute_result"
    }
   ],
   "source": [
    "# check if the code worked\n",
    "df_clean.Supermarket_Opening_Year.dtype"
   ]
  },
  {
   "cell_type": "code",
   "execution_count": 27,
   "id": "ac051c08",
   "metadata": {},
   "outputs": [
    {
     "name": "stdout",
     "output_type": "stream",
     "text": [
      "<class 'pandas.core.frame.DataFrame'>\n",
      "RangeIndex: 2994 entries, 0 to 2993\n",
      "Data columns (total 12 columns):\n",
      " #   Column                         Non-Null Count  Dtype  \n",
      "---  ------                         --------------  -----  \n",
      " 0   Product_Supermarket_Identifer  2994 non-null   object \n",
      " 1   Product_Weight                 2521 non-null   float64\n",
      " 2   Product_Fat_Content            2994 non-null   object \n",
      " 3   Product_Shelf_Visibility       2994 non-null   float64\n",
      " 4   Product_Type                   2994 non-null   object \n",
      " 5   Product_Price                  2994 non-null   float64\n",
      " 6   Supermarket_Opening_Year       2994 non-null   int64  \n",
      " 7   Supermarket__Size              2107 non-null   object \n",
      " 8   Supermarket_Location_Type      2994 non-null   object \n",
      " 9   Supermarket_Type               2994 non-null   object \n",
      " 10  Average_Price_per_ProductType  2994 non-null   object \n",
      " 11  Product_Supermarket_Sales      2994 non-null   float64\n",
      "dtypes: float64(4), int64(1), object(7)\n",
      "memory usage: 280.8+ KB\n"
     ]
    }
   ],
   "source": [
    "df_clean.info()"
   ]
  },
  {
   "cell_type": "code",
   "execution_count": 28,
   "id": "0d650ff3",
   "metadata": {},
   "outputs": [],
   "source": [
    "#cleaning the supermaket size column using dictionaries\n",
    "Supermarket__Size_replace = {\n",
    "    'medium.*|medim.*':'Medium',\n",
    "    'small.*':'Small'\n",
    "}"
   ]
  },
  {
   "cell_type": "code",
   "execution_count": 29,
   "id": "acde4b58",
   "metadata": {},
   "outputs": [],
   "source": [
    "# replace the errors with supermarket  size replace dictionaries\n",
    "df_clean[\"Supermarket__Size\"] = df_clean[\"Supermarket__Size\"].replace(Supermarket__Size_replace, regex=True)"
   ]
  },
  {
   "cell_type": "code",
   "execution_count": 31,
   "id": "cd242333",
   "metadata": {},
   "outputs": [],
   "source": [
    "# handling the null values in the supermarket size column by filling with 'No Size'\n",
    "df_clean['Supermarket__Size'] = df_clean['Supermarket__Size'].fillna('No Size')"
   ]
  },
  {
   "cell_type": "code",
   "execution_count": 32,
   "id": "3d634a24",
   "metadata": {},
   "outputs": [
    {
     "data": {
      "text/plain": [
       "Medium     938\n",
       "No Size    887\n",
       "Small      812\n",
       "High       357\n",
       "Name: Supermarket__Size, dtype: int64"
      ]
     },
     "execution_count": 32,
     "metadata": {},
     "output_type": "execute_result"
    }
   ],
   "source": [
    "# check for change\n",
    "df_clean[\"Supermarket__Size\"].value_counts()"
   ]
  },
  {
   "cell_type": "code",
   "execution_count": 33,
   "id": "592ab32a",
   "metadata": {},
   "outputs": [],
   "source": [
    "# strip string value b in Average  price per producttype\n",
    "df_clean[\"Average_Price_per_ProductType\"] = df_clean[\"Average_Price_per_ProductType\"].str.strip('b')"
   ]
  },
  {
   "cell_type": "code",
   "execution_count": 34,
   "id": "57552075",
   "metadata": {},
   "outputs": [
    {
     "data": {
      "text/plain": [
       "398.2481124        457\n",
       "395.35219          450\n",
       "399.999418         349\n",
       "388.0710941        281\n",
       "391.717633         221\n",
       "364.9189244        203\n",
       "409.5043429        193\n",
       "367.1430293        187\n",
       "390.952803         168\n",
       "386.9982375        151\n",
       "376.598806          86\n",
       "399.1672263         81\n",
       "388.6077            63\n",
       "421.2993827         41\n",
       "395.3483333         36\n",
       "401.9480488         25\n",
       "76.598805970149      1\n",
       "88.071094091904      1\n",
       "Name: Average_Price_per_ProductType, dtype: int64"
      ]
     },
     "execution_count": 34,
     "metadata": {},
     "output_type": "execute_result"
    }
   ],
   "source": [
    "#check for change\n",
    "df_clean[\"Average_Price_per_ProductType\"].value_counts()"
   ]
  },
  {
   "cell_type": "code",
   "execution_count": 35,
   "id": "ca0b84e5",
   "metadata": {},
   "outputs": [],
   "source": [
    "# convert the average price per producttype column from objet datatype to float datatype\n",
    "df_clean['Average_Price_per_ProductType'] = pd.to_numeric(df_clean['Average_Price_per_ProductType'])"
   ]
  },
  {
   "cell_type": "code",
   "execution_count": 36,
   "id": "3e2b8315",
   "metadata": {},
   "outputs": [
    {
     "name": "stdout",
     "output_type": "stream",
     "text": [
      "<class 'pandas.core.series.Series'>\n",
      "RangeIndex: 2994 entries, 0 to 2993\n",
      "Series name: Average_Price_per_ProductType\n",
      "Non-Null Count  Dtype  \n",
      "--------------  -----  \n",
      "2994 non-null   float64\n",
      "dtypes: float64(1)\n",
      "memory usage: 23.5 KB\n"
     ]
    }
   ],
   "source": [
    "# check for change\n",
    "df_clean['Average_Price_per_ProductType'].info()"
   ]
  },
  {
   "cell_type": "code",
   "execution_count": 37,
   "id": "32da5f74",
   "metadata": {},
   "outputs": [
    {
     "data": {
      "text/plain": [
       "Product_Supermarket_Identifer      0\n",
       "Product_Weight                   473\n",
       "Product_Fat_Content                0\n",
       "Product_Shelf_Visibility           0\n",
       "Product_Type                       0\n",
       "Product_Price                      0\n",
       "Supermarket_Opening_Year           0\n",
       "Supermarket__Size                  0\n",
       "Supermarket_Location_Type          0\n",
       "Supermarket_Type                   0\n",
       "Average_Price_per_ProductType      0\n",
       "Product_Supermarket_Sales          0\n",
       "dtype: int64"
      ]
     },
     "execution_count": 37,
     "metadata": {},
     "output_type": "execute_result"
    }
   ],
   "source": [
    "# check for unique values\n",
    "df_clean.isnull().sum()"
   ]
  },
  {
   "cell_type": "code",
   "execution_count": 48,
   "id": "ea892830",
   "metadata": {},
   "outputs": [
    {
     "data": {
      "text/plain": [
       "Product_Supermarket_Identifer    2994\n",
       "Product_Weight                    376\n",
       "Product_Fat_Content                 3\n",
       "Product_Shelf_Visibility         2779\n",
       "Product_Type                       16\n",
       "Product_Price                    2419\n",
       "Supermarket_Opening_Year            9\n",
       "Supermarket__Size                   4\n",
       "Supermarket_Location_Type           3\n",
       "Supermarket_Type                    4\n",
       "Average_Price_per_ProductType      18\n",
       "Product_Supermarket_Sales        1968\n",
       "dtype: int64"
      ]
     },
     "execution_count": 48,
     "metadata": {},
     "output_type": "execute_result"
    }
   ],
   "source": [
    "# check for the unique values\n",
    "df_clean.nunique()"
   ]
  },
  {
   "cell_type": "code",
   "execution_count": 49,
   "id": "f37f1b93",
   "metadata": {},
   "outputs": [],
   "source": [
    "# convert the float datatype column to 2 decimal places\n",
    "pd.set_option(\"display.float_format\", lambda x: '%.2f' % x)"
   ]
  },
  {
   "cell_type": "code",
   "execution_count": 50,
   "id": "3c797ac2",
   "metadata": {},
   "outputs": [
    {
     "data": {
      "text/html": [
       "<div>\n",
       "<style scoped>\n",
       "    .dataframe tbody tr th:only-of-type {\n",
       "        vertical-align: middle;\n",
       "    }\n",
       "\n",
       "    .dataframe tbody tr th {\n",
       "        vertical-align: top;\n",
       "    }\n",
       "\n",
       "    .dataframe thead th {\n",
       "        text-align: right;\n",
       "    }\n",
       "</style>\n",
       "<table border=\"1\" class=\"dataframe\">\n",
       "  <thead>\n",
       "    <tr style=\"text-align: right;\">\n",
       "      <th></th>\n",
       "      <th>Product_Supermarket_Identifer</th>\n",
       "      <th>Product_Weight</th>\n",
       "      <th>Product_Fat_Content</th>\n",
       "      <th>Product_Shelf_Visibility</th>\n",
       "      <th>Product_Type</th>\n",
       "      <th>Product_Price</th>\n",
       "      <th>Supermarket_Opening_Year</th>\n",
       "      <th>Supermarket__Size</th>\n",
       "      <th>Supermarket_Location_Type</th>\n",
       "      <th>Supermarket_Type</th>\n",
       "      <th>Average_Price_per_ProductType</th>\n",
       "      <th>Product_Supermarket_Sales</th>\n",
       "    </tr>\n",
       "  </thead>\n",
       "  <tbody>\n",
       "    <tr>\n",
       "      <th>0</th>\n",
       "      <td>NCA29_CHUKWUDI046</td>\n",
       "      <td>10.50</td>\n",
       "      <td>Low Fat</td>\n",
       "      <td>0.03</td>\n",
       "      <td>Household</td>\n",
       "      <td>428.28</td>\n",
       "      <td>2004</td>\n",
       "      <td>Small</td>\n",
       "      <td>Cluster 1</td>\n",
       "      <td>Supermarket Type1</td>\n",
       "      <td>400.00</td>\n",
       "      <td>8983.31</td>\n",
       "    </tr>\n",
       "    <tr>\n",
       "      <th>1</th>\n",
       "      <td>FDG53_CHUKWUDI049</td>\n",
       "      <td>10.00</td>\n",
       "      <td>Low Fat</td>\n",
       "      <td>0.05</td>\n",
       "      <td>Frozen Foods</td>\n",
       "      <td>345.30</td>\n",
       "      <td>2006</td>\n",
       "      <td>Medium</td>\n",
       "      <td>Cluster 1</td>\n",
       "      <td>Supermarket Type1</td>\n",
       "      <td>388.07</td>\n",
       "      <td>4893.63</td>\n",
       "    </tr>\n",
       "    <tr>\n",
       "      <th>2</th>\n",
       "      <td>NCN05_CHUKWUDI045</td>\n",
       "      <td>8.23</td>\n",
       "      <td>Low Fat</td>\n",
       "      <td>0.01</td>\n",
       "      <td>Health and Hygiene</td>\n",
       "      <td>459.49</td>\n",
       "      <td>2009</td>\n",
       "      <td>No Size</td>\n",
       "      <td>Cluster 2</td>\n",
       "      <td>Supermarket Type1</td>\n",
       "      <td>367.14</td>\n",
       "      <td>7323.80</td>\n",
       "    </tr>\n",
       "    <tr>\n",
       "      <th>3</th>\n",
       "      <td>NCV17_CHUKWUDI046</td>\n",
       "      <td>18.85</td>\n",
       "      <td>Low Fat</td>\n",
       "      <td>0.02</td>\n",
       "      <td>Health and Hygiene</td>\n",
       "      <td>324.41</td>\n",
       "      <td>2004</td>\n",
       "      <td>Small</td>\n",
       "      <td>Cluster 1</td>\n",
       "      <td>Supermarket Type1</td>\n",
       "      <td>367.14</td>\n",
       "      <td>7541.85</td>\n",
       "    </tr>\n",
       "    <tr>\n",
       "      <th>4</th>\n",
       "      <td>FDK03_CHUKWUDI045</td>\n",
       "      <td>12.60</td>\n",
       "      <td>Normal Fat</td>\n",
       "      <td>0.07</td>\n",
       "      <td>Dairy</td>\n",
       "      <td>635.59</td>\n",
       "      <td>2009</td>\n",
       "      <td>No Size</td>\n",
       "      <td>Cluster 2</td>\n",
       "      <td>Supermarket Type1</td>\n",
       "      <td>409.50</td>\n",
       "      <td>11445.10</td>\n",
       "    </tr>\n",
       "  </tbody>\n",
       "</table>\n",
       "</div>"
      ],
      "text/plain": [
       "  Product_Supermarket_Identifer  Product_Weight Product_Fat_Content  \\\n",
       "0             NCA29_CHUKWUDI046           10.50             Low Fat   \n",
       "1             FDG53_CHUKWUDI049           10.00             Low Fat   \n",
       "2             NCN05_CHUKWUDI045            8.23             Low Fat   \n",
       "3             NCV17_CHUKWUDI046           18.85             Low Fat   \n",
       "4             FDK03_CHUKWUDI045           12.60          Normal Fat   \n",
       "\n",
       "   Product_Shelf_Visibility        Product_Type  Product_Price  \\\n",
       "0                      0.03           Household         428.28   \n",
       "1                      0.05        Frozen Foods         345.30   \n",
       "2                      0.01  Health and Hygiene         459.49   \n",
       "3                      0.02  Health and Hygiene         324.41   \n",
       "4                      0.07               Dairy         635.59   \n",
       "\n",
       "   Supermarket_Opening_Year Supermarket__Size Supermarket_Location_Type  \\\n",
       "0                      2004             Small                 Cluster 1   \n",
       "1                      2006            Medium                 Cluster 1   \n",
       "2                      2009           No Size                 Cluster 2   \n",
       "3                      2004             Small                 Cluster 1   \n",
       "4                      2009           No Size                 Cluster 2   \n",
       "\n",
       "    Supermarket_Type  Average_Price_per_ProductType  Product_Supermarket_Sales  \n",
       "0  Supermarket Type1                         400.00                    8983.31  \n",
       "1  Supermarket Type1                         388.07                    4893.63  \n",
       "2  Supermarket Type1                         367.14                    7323.80  \n",
       "3  Supermarket Type1                         367.14                    7541.85  \n",
       "4  Supermarket Type1                         409.50                   11445.10  "
      ]
     },
     "execution_count": 50,
     "metadata": {},
     "output_type": "execute_result"
    }
   ],
   "source": [
    "df_clean.head()"
   ]
  },
  {
   "cell_type": "code",
   "execution_count": 51,
   "id": "6e585ea5",
   "metadata": {
    "scrolled": false
   },
   "outputs": [
    {
     "data": {
      "text/html": [
       "<div>\n",
       "<style scoped>\n",
       "    .dataframe tbody tr th:only-of-type {\n",
       "        vertical-align: middle;\n",
       "    }\n",
       "\n",
       "    .dataframe tbody tr th {\n",
       "        vertical-align: top;\n",
       "    }\n",
       "\n",
       "    .dataframe thead th {\n",
       "        text-align: right;\n",
       "    }\n",
       "</style>\n",
       "<table border=\"1\" class=\"dataframe\">\n",
       "  <thead>\n",
       "    <tr style=\"text-align: right;\">\n",
       "      <th></th>\n",
       "      <th>Product_Weight</th>\n",
       "      <th>Product_Shelf_Visibility</th>\n",
       "      <th>Product_Price</th>\n",
       "      <th>Supermarket_Opening_Year</th>\n",
       "      <th>Average_Price_per_ProductType</th>\n",
       "      <th>Product_Supermarket_Sales</th>\n",
       "    </tr>\n",
       "  </thead>\n",
       "  <tbody>\n",
       "    <tr>\n",
       "      <th>count</th>\n",
       "      <td>2521.00</td>\n",
       "      <td>2994.00</td>\n",
       "      <td>2994.00</td>\n",
       "      <td>2994.00</td>\n",
       "      <td>2994.00</td>\n",
       "      <td>2994.00</td>\n",
       "    </tr>\n",
       "    <tr>\n",
       "      <th>mean</th>\n",
       "      <td>12.83</td>\n",
       "      <td>0.07</td>\n",
       "      <td>393.14</td>\n",
       "      <td>2004.86</td>\n",
       "      <td>391.43</td>\n",
       "      <td>6168.38</td>\n",
       "    </tr>\n",
       "    <tr>\n",
       "      <th>std</th>\n",
       "      <td>4.66</td>\n",
       "      <td>0.05</td>\n",
       "      <td>120.02</td>\n",
       "      <td>8.28</td>\n",
       "      <td>14.52</td>\n",
       "      <td>4491.39</td>\n",
       "    </tr>\n",
       "    <tr>\n",
       "      <th>min</th>\n",
       "      <td>4.55</td>\n",
       "      <td>0.00</td>\n",
       "      <td>78.73</td>\n",
       "      <td>1992.00</td>\n",
       "      <td>76.60</td>\n",
       "      <td>83.23</td>\n",
       "    </tr>\n",
       "    <tr>\n",
       "      <th>25%</th>\n",
       "      <td>8.77</td>\n",
       "      <td>0.03</td>\n",
       "      <td>310.31</td>\n",
       "      <td>1994.00</td>\n",
       "      <td>388.07</td>\n",
       "      <td>2808.43</td>\n",
       "    </tr>\n",
       "    <tr>\n",
       "      <th>50%</th>\n",
       "      <td>12.50</td>\n",
       "      <td>0.05</td>\n",
       "      <td>395.40</td>\n",
       "      <td>2006.00</td>\n",
       "      <td>395.35</td>\n",
       "      <td>5467.88</td>\n",
       "    </tr>\n",
       "    <tr>\n",
       "      <th>75%</th>\n",
       "      <td>17.00</td>\n",
       "      <td>0.09</td>\n",
       "      <td>465.85</td>\n",
       "      <td>2011.00</td>\n",
       "      <td>398.25</td>\n",
       "      <td>8554.70</td>\n",
       "    </tr>\n",
       "    <tr>\n",
       "      <th>max</th>\n",
       "      <td>21.35</td>\n",
       "      <td>0.31</td>\n",
       "      <td>661.98</td>\n",
       "      <td>2016.00</td>\n",
       "      <td>421.30</td>\n",
       "      <td>32717.41</td>\n",
       "    </tr>\n",
       "  </tbody>\n",
       "</table>\n",
       "</div>"
      ],
      "text/plain": [
       "       Product_Weight  Product_Shelf_Visibility  Product_Price  \\\n",
       "count         2521.00                   2994.00        2994.00   \n",
       "mean            12.83                      0.07         393.14   \n",
       "std              4.66                      0.05         120.02   \n",
       "min              4.55                      0.00          78.73   \n",
       "25%              8.77                      0.03         310.31   \n",
       "50%             12.50                      0.05         395.40   \n",
       "75%             17.00                      0.09         465.85   \n",
       "max             21.35                      0.31         661.98   \n",
       "\n",
       "       Supermarket_Opening_Year  Average_Price_per_ProductType  \\\n",
       "count                   2994.00                        2994.00   \n",
       "mean                    2004.86                         391.43   \n",
       "std                        8.28                          14.52   \n",
       "min                     1992.00                          76.60   \n",
       "25%                     1994.00                         388.07   \n",
       "50%                     2006.00                         395.35   \n",
       "75%                     2011.00                         398.25   \n",
       "max                     2016.00                         421.30   \n",
       "\n",
       "       Product_Supermarket_Sales  \n",
       "count                    2994.00  \n",
       "mean                     6168.38  \n",
       "std                      4491.39  \n",
       "min                        83.23  \n",
       "25%                      2808.43  \n",
       "50%                      5467.88  \n",
       "75%                      8554.70  \n",
       "max                     32717.41  "
      ]
     },
     "execution_count": 51,
     "metadata": {},
     "output_type": "execute_result"
    }
   ],
   "source": [
    "# get a glimpse of the summary statistics of the numerical columns\n",
    "df_clean.describe()"
   ]
  },
  {
   "cell_type": "markdown",
   "id": "8e1cdfc5",
   "metadata": {},
   "source": [
    "### Exploratory data analysis"
   ]
  },
  {
   "cell_type": "markdown",
   "id": "bc19ad4d",
   "metadata": {},
   "source": [
    "##### general overview of the sales by each supermarket type"
   ]
  },
  {
   "cell_type": "code",
   "execution_count": 70,
   "id": "00d9b298",
   "metadata": {},
   "outputs": [
    {
     "data": {
      "text/html": [
       "<div>\n",
       "<style scoped>\n",
       "    .dataframe tbody tr th:only-of-type {\n",
       "        vertical-align: middle;\n",
       "    }\n",
       "\n",
       "    .dataframe tbody tr th {\n",
       "        vertical-align: top;\n",
       "    }\n",
       "\n",
       "    .dataframe thead tr th {\n",
       "        text-align: left;\n",
       "    }\n",
       "\n",
       "    .dataframe thead tr:last-of-type th {\n",
       "        text-align: right;\n",
       "    }\n",
       "</style>\n",
       "<table border=\"1\" class=\"dataframe\">\n",
       "  <thead>\n",
       "    <tr>\n",
       "      <th></th>\n",
       "      <th colspan=\"3\" halign=\"left\">Product_Supermarket_Sales</th>\n",
       "    </tr>\n",
       "    <tr>\n",
       "      <th></th>\n",
       "      <th>mean</th>\n",
       "      <th>sum</th>\n",
       "      <th>count</th>\n",
       "    </tr>\n",
       "    <tr>\n",
       "      <th>Supermarket_Type</th>\n",
       "      <th></th>\n",
       "      <th></th>\n",
       "      <th></th>\n",
       "    </tr>\n",
       "  </thead>\n",
       "  <tbody>\n",
       "    <tr>\n",
       "      <th>Grocery Store</th>\n",
       "      <td>813.328852</td>\n",
       "      <td>347291.42</td>\n",
       "      <td>427</td>\n",
       "    </tr>\n",
       "    <tr>\n",
       "      <th>Supermarket Type1</th>\n",
       "      <td>6487.093293</td>\n",
       "      <td>12902828.56</td>\n",
       "      <td>1989</td>\n",
       "    </tr>\n",
       "    <tr>\n",
       "      <th>Supermarket Type2</th>\n",
       "      <td>5607.259933</td>\n",
       "      <td>1670963.46</td>\n",
       "      <td>298</td>\n",
       "    </tr>\n",
       "    <tr>\n",
       "      <th>Supermarket Type3</th>\n",
       "      <td>12667.993071</td>\n",
       "      <td>3547038.06</td>\n",
       "      <td>280</td>\n",
       "    </tr>\n",
       "  </tbody>\n",
       "</table>\n",
       "</div>"
      ],
      "text/plain": [
       "                  Product_Supermarket_Sales                   \n",
       "                                       mean          sum count\n",
       "Supermarket_Type                                              \n",
       "Grocery Store                    813.328852    347291.42   427\n",
       "Supermarket Type1               6487.093293  12902828.56  1989\n",
       "Supermarket Type2               5607.259933   1670963.46   298\n",
       "Supermarket Type3              12667.993071   3547038.06   280"
      ]
     },
     "execution_count": 70,
     "metadata": {},
     "output_type": "execute_result"
    }
   ],
   "source": [
    "# general overview of the sales by each Supermarket Type\n",
    "df_clean[['Supermarket_Type', 'Product_Supermarket_Sales']].groupby('Supermarket_Type').agg(['mean','sum','count'])"
   ]
  },
  {
   "cell_type": "code",
   "execution_count": 53,
   "id": "bcce3afd",
   "metadata": {
    "scrolled": true
   },
   "outputs": [
    {
     "data": {
      "text/html": [
       "<div>\n",
       "<style scoped>\n",
       "    .dataframe tbody tr th:only-of-type {\n",
       "        vertical-align: middle;\n",
       "    }\n",
       "\n",
       "    .dataframe tbody tr th {\n",
       "        vertical-align: top;\n",
       "    }\n",
       "\n",
       "    .dataframe thead th {\n",
       "        text-align: right;\n",
       "    }\n",
       "</style>\n",
       "<table border=\"1\" class=\"dataframe\">\n",
       "  <thead>\n",
       "    <tr style=\"text-align: right;\">\n",
       "      <th></th>\n",
       "      <th>Product_Price</th>\n",
       "    </tr>\n",
       "    <tr>\n",
       "      <th>Product_Type</th>\n",
       "      <th></th>\n",
       "    </tr>\n",
       "  </thead>\n",
       "  <tbody>\n",
       "    <tr>\n",
       "      <th>Starchy Foods</th>\n",
       "      <td>417.27</td>\n",
       "    </tr>\n",
       "    <tr>\n",
       "      <th>Dairy</th>\n",
       "      <td>416.25</td>\n",
       "    </tr>\n",
       "    <tr>\n",
       "      <th>Meat</th>\n",
       "      <td>402.52</td>\n",
       "    </tr>\n",
       "    <tr>\n",
       "      <th>Fruits and Vegetables</th>\n",
       "      <td>402.08</td>\n",
       "    </tr>\n",
       "    <tr>\n",
       "      <th>Household</th>\n",
       "      <td>401.38</td>\n",
       "    </tr>\n",
       "    <tr>\n",
       "      <th>Soft Drinks</th>\n",
       "      <td>400.45</td>\n",
       "    </tr>\n",
       "    <tr>\n",
       "      <th>Breads</th>\n",
       "      <td>395.77</td>\n",
       "    </tr>\n",
       "    <tr>\n",
       "      <th>Snack Foods</th>\n",
       "      <td>394.69</td>\n",
       "    </tr>\n",
       "    <tr>\n",
       "      <th>Breakfast</th>\n",
       "      <td>390.55</td>\n",
       "    </tr>\n",
       "    <tr>\n",
       "      <th>Seafood</th>\n",
       "      <td>388.89</td>\n",
       "    </tr>\n",
       "    <tr>\n",
       "      <th>Frozen Foods</th>\n",
       "      <td>387.78</td>\n",
       "    </tr>\n",
       "    <tr>\n",
       "      <th>Others</th>\n",
       "      <td>385.16</td>\n",
       "    </tr>\n",
       "    <tr>\n",
       "      <th>Canned</th>\n",
       "      <td>385.03</td>\n",
       "    </tr>\n",
       "    <tr>\n",
       "      <th>Hard Drinks</th>\n",
       "      <td>376.15</td>\n",
       "    </tr>\n",
       "    <tr>\n",
       "      <th>Baking Goods</th>\n",
       "      <td>368.99</td>\n",
       "    </tr>\n",
       "    <tr>\n",
       "      <th>Health and Hygiene</th>\n",
       "      <td>363.02</td>\n",
       "    </tr>\n",
       "  </tbody>\n",
       "</table>\n",
       "</div>"
      ],
      "text/plain": [
       "                       Product_Price\n",
       "Product_Type                        \n",
       "Starchy Foods                 417.27\n",
       "Dairy                         416.25\n",
       "Meat                          402.52\n",
       "Fruits and Vegetables         402.08\n",
       "Household                     401.38\n",
       "Soft Drinks                   400.45\n",
       "Breads                        395.77\n",
       "Snack Foods                   394.69\n",
       "Breakfast                     390.55\n",
       "Seafood                       388.89\n",
       "Frozen Foods                  387.78\n",
       "Others                        385.16\n",
       "Canned                        385.03\n",
       "Hard Drinks                   376.15\n",
       "Baking Goods                  368.99\n",
       "Health and Hygiene            363.02"
      ]
     },
     "execution_count": 53,
     "metadata": {},
     "output_type": "execute_result"
    }
   ],
   "source": [
    "# getting the average unit price of the products type\n",
    "df_clean[['Product_Type', 'Product_Price']]\\\n",
    ".groupby('Product_Type').mean()\\\n",
    ".sort_values(by='Product_Price', ascending=False)"
   ]
  },
  {
   "cell_type": "markdown",
   "id": "9e6570bd",
   "metadata": {},
   "source": [
    "Starchy foods lead the list. however, their prices are quite close to each other."
   ]
  },
  {
   "cell_type": "code",
   "execution_count": 73,
   "id": "bea650f7",
   "metadata": {},
   "outputs": [
    {
     "data": {
      "text/html": [
       "<div>\n",
       "<style scoped>\n",
       "    .dataframe tbody tr th:only-of-type {\n",
       "        vertical-align: middle;\n",
       "    }\n",
       "\n",
       "    .dataframe tbody tr th {\n",
       "        vertical-align: top;\n",
       "    }\n",
       "\n",
       "    .dataframe thead th {\n",
       "        text-align: right;\n",
       "    }\n",
       "</style>\n",
       "<table border=\"1\" class=\"dataframe\">\n",
       "  <thead>\n",
       "    <tr style=\"text-align: right;\">\n",
       "      <th></th>\n",
       "      <th>Supermarket_Opening_Year</th>\n",
       "      <th>Product_Supermarket_Sales</th>\n",
       "    </tr>\n",
       "  </thead>\n",
       "  <tbody>\n",
       "    <tr>\n",
       "      <th>0</th>\n",
       "      <td>1992</td>\n",
       "      <td>3748449.30</td>\n",
       "    </tr>\n",
       "    <tr>\n",
       "      <th>1</th>\n",
       "      <td>1994</td>\n",
       "      <td>1465509.11</td>\n",
       "    </tr>\n",
       "    <tr>\n",
       "      <th>2</th>\n",
       "      <td>2004</td>\n",
       "      <td>1791945.83</td>\n",
       "    </tr>\n",
       "    <tr>\n",
       "      <th>3</th>\n",
       "      <td>2005</td>\n",
       "      <td>145880.18</td>\n",
       "    </tr>\n",
       "    <tr>\n",
       "      <th>4</th>\n",
       "      <td>2006</td>\n",
       "      <td>2279742.65</td>\n",
       "    </tr>\n",
       "    <tr>\n",
       "      <th>5</th>\n",
       "      <td>2009</td>\n",
       "      <td>2125456.88</td>\n",
       "    </tr>\n",
       "    <tr>\n",
       "      <th>6</th>\n",
       "      <td>2011</td>\n",
       "      <td>2506970.08</td>\n",
       "    </tr>\n",
       "    <tr>\n",
       "      <th>7</th>\n",
       "      <td>2014</td>\n",
       "      <td>2733204.01</td>\n",
       "    </tr>\n",
       "    <tr>\n",
       "      <th>8</th>\n",
       "      <td>2016</td>\n",
       "      <td>1670963.46</td>\n",
       "    </tr>\n",
       "  </tbody>\n",
       "</table>\n",
       "</div>"
      ],
      "text/plain": [
       "   Supermarket_Opening_Year  Product_Supermarket_Sales\n",
       "0                      1992                 3748449.30\n",
       "1                      1994                 1465509.11\n",
       "2                      2004                 1791945.83\n",
       "3                      2005                  145880.18\n",
       "4                      2006                 2279742.65\n",
       "5                      2009                 2125456.88\n",
       "6                      2011                 2506970.08\n",
       "7                      2014                 2733204.01\n",
       "8                      2016                 1670963.46"
      ]
     },
     "execution_count": 73,
     "metadata": {},
     "output_type": "execute_result"
    }
   ],
   "source": [
    "Sales_by_Year = df_clean.groupby('Supermarket_Opening_Year')['Product_Supermarket_Sales'].sum().reset_index()\\\n",
    "\n",
    "Sales_by_Year"
   ]
  },
  {
   "cell_type": "code",
   "execution_count": 113,
   "id": "f8e70b4f",
   "metadata": {},
   "outputs": [],
   "source": [
    "sales_by_product = df_clean.groupby('Product_Type')['Product_Supermarket_Sales'].sum().reset_index()\\\n",
    ".sort_values(by='Product_Supermarket_Sales', ascending=False)"
   ]
  },
  {
   "cell_type": "code",
   "execution_count": 84,
   "id": "f1f272b9",
   "metadata": {},
   "outputs": [
    {
     "data": {
      "text/html": [
       "<div>\n",
       "<style scoped>\n",
       "    .dataframe tbody tr th:only-of-type {\n",
       "        vertical-align: middle;\n",
       "    }\n",
       "\n",
       "    .dataframe tbody tr th {\n",
       "        vertical-align: top;\n",
       "    }\n",
       "\n",
       "    .dataframe thead th {\n",
       "        text-align: right;\n",
       "    }\n",
       "</style>\n",
       "<table border=\"1\" class=\"dataframe\">\n",
       "  <thead>\n",
       "    <tr style=\"text-align: right;\">\n",
       "      <th></th>\n",
       "      <th>Product_Type</th>\n",
       "      <th>Product_Supermarket_Sales</th>\n",
       "    </tr>\n",
       "  </thead>\n",
       "  <tbody>\n",
       "    <tr>\n",
       "      <th>6</th>\n",
       "      <td>Fruits and Vegetables</td>\n",
       "      <td>2962548.83</td>\n",
       "    </tr>\n",
       "    <tr>\n",
       "      <th>13</th>\n",
       "      <td>Snack Foods</td>\n",
       "      <td>2826377.75</td>\n",
       "    </tr>\n",
       "    <tr>\n",
       "      <th>9</th>\n",
       "      <td>Household</td>\n",
       "      <td>2169226.58</td>\n",
       "    </tr>\n",
       "    <tr>\n",
       "      <th>5</th>\n",
       "      <td>Frozen Foods</td>\n",
       "      <td>1671214.69</td>\n",
       "    </tr>\n",
       "    <tr>\n",
       "      <th>3</th>\n",
       "      <td>Canned</td>\n",
       "      <td>1362807.78</td>\n",
       "    </tr>\n",
       "    <tr>\n",
       "      <th>4</th>\n",
       "      <td>Dairy</td>\n",
       "      <td>1174872.42</td>\n",
       "    </tr>\n",
       "    <tr>\n",
       "      <th>0</th>\n",
       "      <td>Baking Goods</td>\n",
       "      <td>1173785.56</td>\n",
       "    </tr>\n",
       "    <tr>\n",
       "      <th>8</th>\n",
       "      <td>Health and Hygiene</td>\n",
       "      <td>1075386.95</td>\n",
       "    </tr>\n",
       "    <tr>\n",
       "      <th>10</th>\n",
       "      <td>Meat</td>\n",
       "      <td>1073922.18</td>\n",
       "    </tr>\n",
       "    <tr>\n",
       "      <th>14</th>\n",
       "      <td>Soft Drinks</td>\n",
       "      <td>963026.49</td>\n",
       "    </tr>\n",
       "    <tr>\n",
       "      <th>7</th>\n",
       "      <td>Hard Drinks</td>\n",
       "      <td>520857.05</td>\n",
       "    </tr>\n",
       "    <tr>\n",
       "      <th>1</th>\n",
       "      <td>Breads</td>\n",
       "      <td>487721.79</td>\n",
       "    </tr>\n",
       "    <tr>\n",
       "      <th>11</th>\n",
       "      <td>Others</td>\n",
       "      <td>361371.33</td>\n",
       "    </tr>\n",
       "    <tr>\n",
       "      <th>15</th>\n",
       "      <td>Starchy Foods</td>\n",
       "      <td>261073.49</td>\n",
       "    </tr>\n",
       "    <tr>\n",
       "      <th>2</th>\n",
       "      <td>Breakfast</td>\n",
       "      <td>233249.73</td>\n",
       "    </tr>\n",
       "    <tr>\n",
       "      <th>12</th>\n",
       "      <td>Seafood</td>\n",
       "      <td>150678.88</td>\n",
       "    </tr>\n",
       "  </tbody>\n",
       "</table>\n",
       "</div>"
      ],
      "text/plain": [
       "             Product_Type  Product_Supermarket_Sales\n",
       "6   Fruits and Vegetables                 2962548.83\n",
       "13            Snack Foods                 2826377.75\n",
       "9               Household                 2169226.58\n",
       "5            Frozen Foods                 1671214.69\n",
       "3                  Canned                 1362807.78\n",
       "4                   Dairy                 1174872.42\n",
       "0            Baking Goods                 1173785.56\n",
       "8      Health and Hygiene                 1075386.95\n",
       "10                   Meat                 1073922.18\n",
       "14            Soft Drinks                  963026.49\n",
       "7             Hard Drinks                  520857.05\n",
       "1                  Breads                  487721.79\n",
       "11                 Others                  361371.33\n",
       "15          Starchy Foods                  261073.49\n",
       "2               Breakfast                  233249.73\n",
       "12                Seafood                  150678.88"
      ]
     },
     "execution_count": 84,
     "metadata": {},
     "output_type": "execute_result"
    }
   ],
   "source": [
    "sales_by_product"
   ]
  },
  {
   "cell_type": "code",
   "execution_count": 172,
   "id": "0cec92e9",
   "metadata": {},
   "outputs": [
    {
     "data": {
      "text/html": [
       "<div>\n",
       "<style scoped>\n",
       "    .dataframe tbody tr th:only-of-type {\n",
       "        vertical-align: middle;\n",
       "    }\n",
       "\n",
       "    .dataframe tbody tr th {\n",
       "        vertical-align: top;\n",
       "    }\n",
       "\n",
       "    .dataframe thead th {\n",
       "        text-align: right;\n",
       "    }\n",
       "</style>\n",
       "<table border=\"1\" class=\"dataframe\">\n",
       "  <thead>\n",
       "    <tr style=\"text-align: right;\">\n",
       "      <th></th>\n",
       "      <th>Product_Type</th>\n",
       "      <th>Product_Shelf_Visibility</th>\n",
       "    </tr>\n",
       "  </thead>\n",
       "  <tbody>\n",
       "    <tr>\n",
       "      <th>6</th>\n",
       "      <td>Fruits and Vegetables</td>\n",
       "      <td>31.655720</td>\n",
       "    </tr>\n",
       "    <tr>\n",
       "      <th>13</th>\n",
       "      <td>Snack Foods</td>\n",
       "      <td>30.981494</td>\n",
       "    </tr>\n",
       "    <tr>\n",
       "      <th>9</th>\n",
       "      <td>Household</td>\n",
       "      <td>19.930861</td>\n",
       "    </tr>\n",
       "    <tr>\n",
       "      <th>5</th>\n",
       "      <td>Frozen Foods</td>\n",
       "      <td>19.114888</td>\n",
       "    </tr>\n",
       "    <tr>\n",
       "      <th>0</th>\n",
       "      <td>Baking Goods</td>\n",
       "      <td>13.767049</td>\n",
       "    </tr>\n",
       "    <tr>\n",
       "      <th>3</th>\n",
       "      <td>Canned</td>\n",
       "      <td>13.764511</td>\n",
       "    </tr>\n",
       "    <tr>\n",
       "      <th>4</th>\n",
       "      <td>Dairy</td>\n",
       "      <td>13.634007</td>\n",
       "    </tr>\n",
       "    <tr>\n",
       "      <th>10</th>\n",
       "      <td>Meat</td>\n",
       "      <td>11.258839</td>\n",
       "    </tr>\n",
       "    <tr>\n",
       "      <th>8</th>\n",
       "      <td>Health and Hygiene</td>\n",
       "      <td>9.872557</td>\n",
       "    </tr>\n",
       "    <tr>\n",
       "      <th>14</th>\n",
       "      <td>Soft Drinks</td>\n",
       "      <td>8.858381</td>\n",
       "    </tr>\n",
       "    <tr>\n",
       "      <th>1</th>\n",
       "      <td>Breads</td>\n",
       "      <td>5.729468</td>\n",
       "    </tr>\n",
       "    <tr>\n",
       "      <th>7</th>\n",
       "      <td>Hard Drinks</td>\n",
       "      <td>5.427182</td>\n",
       "    </tr>\n",
       "    <tr>\n",
       "      <th>11</th>\n",
       "      <td>Others</td>\n",
       "      <td>3.692590</td>\n",
       "    </tr>\n",
       "    <tr>\n",
       "      <th>2</th>\n",
       "      <td>Breakfast</td>\n",
       "      <td>2.733331</td>\n",
       "    </tr>\n",
       "    <tr>\n",
       "      <th>15</th>\n",
       "      <td>Starchy Foods</td>\n",
       "      <td>2.673890</td>\n",
       "    </tr>\n",
       "    <tr>\n",
       "      <th>12</th>\n",
       "      <td>Seafood</td>\n",
       "      <td>2.239228</td>\n",
       "    </tr>\n",
       "  </tbody>\n",
       "</table>\n",
       "</div>"
      ],
      "text/plain": [
       "             Product_Type  Product_Shelf_Visibility\n",
       "6   Fruits and Vegetables                 31.655720\n",
       "13            Snack Foods                 30.981494\n",
       "9               Household                 19.930861\n",
       "5            Frozen Foods                 19.114888\n",
       "0            Baking Goods                 13.767049\n",
       "3                  Canned                 13.764511\n",
       "4                   Dairy                 13.634007\n",
       "10                   Meat                 11.258839\n",
       "8      Health and Hygiene                  9.872557\n",
       "14            Soft Drinks                  8.858381\n",
       "1                  Breads                  5.729468\n",
       "7             Hard Drinks                  5.427182\n",
       "11                 Others                  3.692590\n",
       "2               Breakfast                  2.733331\n",
       "15          Starchy Foods                  2.673890\n",
       "12                Seafood                  2.239228"
      ]
     },
     "execution_count": 172,
     "metadata": {},
     "output_type": "execute_result"
    }
   ],
   "source": [
    "shelf_visibility_by_product = df_clean.groupby('Product_Type')['Product_Shelf_Visibility'].sum().reset_index()\\\n",
    ".sort_values(by='Product_Shelf_Visibility', ascending=False)\n",
    "\n",
    "shelf_visibility_by_product"
   ]
  },
  {
   "cell_type": "code",
   "execution_count": 139,
   "id": "a55ef4fd",
   "metadata": {},
   "outputs": [
    {
     "data": {
      "text/html": [
       "<div>\n",
       "<style scoped>\n",
       "    .dataframe tbody tr th:only-of-type {\n",
       "        vertical-align: middle;\n",
       "    }\n",
       "\n",
       "    .dataframe tbody tr th {\n",
       "        vertical-align: top;\n",
       "    }\n",
       "\n",
       "    .dataframe thead th {\n",
       "        text-align: right;\n",
       "    }\n",
       "</style>\n",
       "<table border=\"1\" class=\"dataframe\">\n",
       "  <thead>\n",
       "    <tr style=\"text-align: right;\">\n",
       "      <th></th>\n",
       "      <th>Supermarket__Size</th>\n",
       "      <th>Product_Supermarket_Sales</th>\n",
       "    </tr>\n",
       "  </thead>\n",
       "  <tbody>\n",
       "    <tr>\n",
       "      <th>1</th>\n",
       "      <td>Medium</td>\n",
       "      <td>7481944.74</td>\n",
       "    </tr>\n",
       "    <tr>\n",
       "      <th>2</th>\n",
       "      <td>No Size</td>\n",
       "      <td>5020340.50</td>\n",
       "    </tr>\n",
       "    <tr>\n",
       "      <th>3</th>\n",
       "      <td>Small</td>\n",
       "      <td>4500327.15</td>\n",
       "    </tr>\n",
       "    <tr>\n",
       "      <th>0</th>\n",
       "      <td>High</td>\n",
       "      <td>1465509.11</td>\n",
       "    </tr>\n",
       "  </tbody>\n",
       "</table>\n",
       "</div>"
      ],
      "text/plain": [
       "  Supermarket__Size  Product_Supermarket_Sales\n",
       "1            Medium                 7481944.74\n",
       "2           No Size                 5020340.50\n",
       "3             Small                 4500327.15\n",
       "0              High                 1465509.11"
      ]
     },
     "execution_count": 139,
     "metadata": {},
     "output_type": "execute_result"
    }
   ],
   "source": [
    "sales_by_supermarket_size = df_clean.groupby('Supermarket__Size')['Product_Supermarket_Sales'].sum().reset_index()\\\n",
    ".sort_values(by='Product_Supermarket_Sales', ascending=False)\n",
    "sales_by_supermarket_size "
   ]
  },
  {
   "cell_type": "code",
   "execution_count": 165,
   "id": "7e5611d9",
   "metadata": {},
   "outputs": [
    {
     "name": "stderr",
     "output_type": "stream",
     "text": [
      "C:\\Users\\pc\\AppData\\Local\\Temp\\ipykernel_9924\\1863484124.py:1: FutureWarning: The default value of numeric_only in DataFrame.corr is deprecated. In a future version, it will default to False. Select only valid columns or specify the value of numeric_only to silence this warning.\n",
      "  df_clean.corr()\n"
     ]
    },
    {
     "data": {
      "text/html": [
       "<div>\n",
       "<style scoped>\n",
       "    .dataframe tbody tr th:only-of-type {\n",
       "        vertical-align: middle;\n",
       "    }\n",
       "\n",
       "    .dataframe tbody tr th {\n",
       "        vertical-align: top;\n",
       "    }\n",
       "\n",
       "    .dataframe thead th {\n",
       "        text-align: right;\n",
       "    }\n",
       "</style>\n",
       "<table border=\"1\" class=\"dataframe\">\n",
       "  <thead>\n",
       "    <tr style=\"text-align: right;\">\n",
       "      <th></th>\n",
       "      <th>Product_Weight</th>\n",
       "      <th>Product_Shelf_Visibility</th>\n",
       "      <th>Product_Price</th>\n",
       "      <th>Supermarket_Opening_Year</th>\n",
       "      <th>Average_Price_per_ProductType</th>\n",
       "      <th>Product_Supermarket_Sales</th>\n",
       "    </tr>\n",
       "  </thead>\n",
       "  <tbody>\n",
       "    <tr>\n",
       "      <th>Product_Weight</th>\n",
       "      <td>1.000000</td>\n",
       "      <td>-0.034773</td>\n",
       "      <td>0.051694</td>\n",
       "      <td>0.011302</td>\n",
       "      <td>0.040908</td>\n",
       "      <td>0.047234</td>\n",
       "    </tr>\n",
       "    <tr>\n",
       "      <th>Product_Shelf_Visibility</th>\n",
       "      <td>-0.034773</td>\n",
       "      <td>1.000000</td>\n",
       "      <td>-0.057534</td>\n",
       "      <td>-0.083317</td>\n",
       "      <td>0.040392</td>\n",
       "      <td>-0.154743</td>\n",
       "    </tr>\n",
       "    <tr>\n",
       "      <th>Product_Price</th>\n",
       "      <td>0.051694</td>\n",
       "      <td>-0.057534</td>\n",
       "      <td>1.000000</td>\n",
       "      <td>0.153471</td>\n",
       "      <td>0.071476</td>\n",
       "      <td>0.525338</td>\n",
       "    </tr>\n",
       "    <tr>\n",
       "      <th>Supermarket_Opening_Year</th>\n",
       "      <td>0.011302</td>\n",
       "      <td>-0.083317</td>\n",
       "      <td>0.153471</td>\n",
       "      <td>1.000000</td>\n",
       "      <td>-0.007075</td>\n",
       "      <td>0.042440</td>\n",
       "    </tr>\n",
       "    <tr>\n",
       "      <th>Average_Price_per_ProductType</th>\n",
       "      <td>0.040908</td>\n",
       "      <td>0.040392</td>\n",
       "      <td>0.071476</td>\n",
       "      <td>-0.007075</td>\n",
       "      <td>1.000000</td>\n",
       "      <td>0.002825</td>\n",
       "    </tr>\n",
       "    <tr>\n",
       "      <th>Product_Supermarket_Sales</th>\n",
       "      <td>0.047234</td>\n",
       "      <td>-0.154743</td>\n",
       "      <td>0.525338</td>\n",
       "      <td>0.042440</td>\n",
       "      <td>0.002825</td>\n",
       "      <td>1.000000</td>\n",
       "    </tr>\n",
       "  </tbody>\n",
       "</table>\n",
       "</div>"
      ],
      "text/plain": [
       "                               Product_Weight  Product_Shelf_Visibility  \\\n",
       "Product_Weight                       1.000000                 -0.034773   \n",
       "Product_Shelf_Visibility            -0.034773                  1.000000   \n",
       "Product_Price                        0.051694                 -0.057534   \n",
       "Supermarket_Opening_Year             0.011302                 -0.083317   \n",
       "Average_Price_per_ProductType        0.040908                  0.040392   \n",
       "Product_Supermarket_Sales            0.047234                 -0.154743   \n",
       "\n",
       "                               Product_Price  Supermarket_Opening_Year  \\\n",
       "Product_Weight                      0.051694                  0.011302   \n",
       "Product_Shelf_Visibility           -0.057534                 -0.083317   \n",
       "Product_Price                       1.000000                  0.153471   \n",
       "Supermarket_Opening_Year            0.153471                  1.000000   \n",
       "Average_Price_per_ProductType       0.071476                 -0.007075   \n",
       "Product_Supermarket_Sales           0.525338                  0.042440   \n",
       "\n",
       "                               Average_Price_per_ProductType  \\\n",
       "Product_Weight                                      0.040908   \n",
       "Product_Shelf_Visibility                            0.040392   \n",
       "Product_Price                                       0.071476   \n",
       "Supermarket_Opening_Year                           -0.007075   \n",
       "Average_Price_per_ProductType                       1.000000   \n",
       "Product_Supermarket_Sales                           0.002825   \n",
       "\n",
       "                               Product_Supermarket_Sales  \n",
       "Product_Weight                                  0.047234  \n",
       "Product_Shelf_Visibility                       -0.154743  \n",
       "Product_Price                                   0.525338  \n",
       "Supermarket_Opening_Year                        0.042440  \n",
       "Average_Price_per_ProductType                   0.002825  \n",
       "Product_Supermarket_Sales                       1.000000  "
      ]
     },
     "execution_count": 165,
     "metadata": {},
     "output_type": "execute_result"
    }
   ],
   "source": [
    "df_clean.corr()"
   ]
  },
  {
   "cell_type": "markdown",
   "id": "34570e22",
   "metadata": {},
   "source": [
    "### Data Visualization"
   ]
  },
  {
   "cell_type": "code",
   "execution_count": 127,
   "id": "1c6df010",
   "metadata": {},
   "outputs": [],
   "source": [
    "# set the grid\n",
    "sns.set_style(\"darkgrid\")"
   ]
  },
  {
   "cell_type": "code",
   "execution_count": 128,
   "id": "c13ad1e5",
   "metadata": {},
   "outputs": [
    {
     "data": {
      "text/plain": [
       "Text(0, 0.5, 'Total Sales')"
      ]
     },
     "execution_count": 128,
     "metadata": {},
     "output_type": "execute_result"
    },
    {
     "data": {
      "image/png": "[encoded data removed]",
      "text/plain": [
       "<Figure size 1000x500 with 1 Axes>"
      ]
     },
     "metadata": {},
     "output_type": "display_data"
    }
   ],
   "source": [
    "plt.figure(figsize=[10,5])\n",
    "plt.plot(Sales_by_Year['Supermarket_Opening_Year'], Sales_by_Year['Product_Supermarket_Sales'],marker='.', color='maroon')\n",
    "plt.title('Sales by Year', fontsize=14)\n",
    "plt.xlabel('Opening Year')\n",
    "plt.ylabel('Total Sales')"
   ]
  },
  {
   "cell_type": "markdown",
   "id": "f00e1733",
   "metadata": {},
   "source": [
    "In 1992, the highest sales were recorded at an impressive total of 3,748,449.30. However, in 2005, there was a significant decrease in sales amounting to 145,880.18."
   ]
  },
  {
   "cell_type": "code",
   "execution_count": 129,
   "id": "4d91c834",
   "metadata": {},
   "outputs": [
    {
     "data": {
      "text/plain": [
       "Text(0, 0.5, 'Total Sales')"
      ]
     },
     "execution_count": 129,
     "metadata": {},
     "output_type": "execute_result"
    },
    {
     "data": {
      "image/png": "[encoded data removed]",
      "text/plain": [
       "<Figure size 1000x500 with 1 Axes>"
      ]
     },
     "metadata": {},
     "output_type": "display_data"
    }
   ],
   "source": [
    "plt.figure(figsize=[10, 5])\n",
    "x=sales_by_product['Product_Type'].head(5)\n",
    "y=sales_by_product['Product_Supermarket_Sales'].head(5)\n",
    "plt.bar(x,y, color='maroon', width=0.4)\n",
    "\n",
    "plt.title('Top 5 Sales by Product Type')\n",
    "plt.xlabel('Product Type')\n",
    "plt.ylabel('Total Sales')"
   ]
  },
  {
   "cell_type": "code",
   "execution_count": 143,
   "id": "35156154",
   "metadata": {},
   "outputs": [
    {
     "data": {
      "text/plain": [
       "Text(0.5, 0, 'Supermarket Size')"
      ]
     },
     "execution_count": 143,
     "metadata": {},
     "output_type": "execute_result"
    },
    {
     "data": {
      "image/png": "[encoded data removed]",
      "text/plain": [
       "<Figure size 1000x500 with 1 Axes>"
      ]
     },
     "metadata": {},
     "output_type": "display_data"
    }
   ],
   "source": [
    "plt.figure(figsize=[10, 5])\n",
    "x=sales_by_supermarket_size['Supermarket__Size']\n",
    "y=sales_by_supermarket_size['Product_Supermarket_Sales']\n",
    "plt.bar(x,y, color='maroon', width=0.4)\n",
    "\n",
    "plt.title('Sales by Supermaket Size', fontsize=14)\n",
    "plt.ylabel('Total Sales')\n",
    "plt.xlabel('Supermarket Size')"
   ]
  },
  {
   "cell_type": "code",
   "execution_count": 190,
   "id": "b46782e4",
   "metadata": {},
   "outputs": [
    {
     "data": {
      "text/plain": [
       "Text(0.5, 0, 'Product Type')"
      ]
     },
     "execution_count": 190,
     "metadata": {},
     "output_type": "execute_result"
    },
    {
     "data": {
      "image/png": "[encoded data removed]",
      "text/plain": [
       "<Figure size 1200x600 with 1 Axes>"
      ]
     },
     "metadata": {},
     "output_type": "display_data"
    }
   ],
   "source": [
    "plt.figure(figsize=[12,6])\n",
    "x=shelf_visibility_by_product['Product_Type'].head(10)\n",
    "y=shelf_visibility_by_product['Product_Shelf_Visibility'].head(10)\n",
    "plt.bar(x,y, color='maroon', width=0.8)\n",
    "\n",
    "plt.title('Product Shelf Visibility', fontsize=14)\n",
    "plt.ylabel('Shelf Visibility')\n",
    "plt.xlabel('Product Type')"
   ]
  },
  {
   "cell_type": "code",
   "execution_count": 134,
   "id": "492c5c15",
   "metadata": {},
   "outputs": [
    {
     "data": {
      "text/plain": [
       "<matplotlib.collections.PathCollection at 0x1e0837459c0>"
      ]
     },
     "execution_count": 134,
     "metadata": {},
     "output_type": "execute_result"
    },
    {
     "data": {
      "image/png": "[encoded data removed]",
      "text/plain": [
       "<Figure size 640x480 with 1 Axes>"
      ]
     },
     "metadata": {},
     "output_type": "display_data"
    }
   ],
   "source": [
    "# relationship between the product shelf visibilty and supermarket sales\n",
    "x= df_clean['Product_Supermarket_Sales']\n",
    "y= df_clean['Product_Shelf_Visibility']\n",
    "\n",
    "plt.scatter(x, y, color='maroon', marker = '*')"
   ]
  },
  {
   "cell_type": "code",
   "execution_count": 167,
   "id": "cdd5ec0d",
   "metadata": {},
   "outputs": [
    {
     "data": {
      "text/plain": [
       "<matplotlib.collections.PathCollection at 0x1e084261cf0>"
      ]
     },
     "execution_count": 167,
     "metadata": {},
     "output_type": "execute_result"
    },
    {
     "data": {
      "image/png": "[encoded data removed]",
      "text/plain": [
       "<Figure size 640x480 with 1 Axes>"
      ]
     },
     "metadata": {},
     "output_type": "display_data"
    }
   ],
   "source": [
    "x= df_clean['Product_Price']\n",
    "y= df_clean['Product_Supermarket_Sales']\n",
    "\n",
    "plt.scatter(x, y, color='maroon', marker = '*')"
   ]
  },
  {
   "cell_type": "code",
   "execution_count": 146,
   "id": "38389e74",
   "metadata": {},
   "outputs": [
    {
     "data": {
      "text/plain": [
       "Index(['Product_Supermarket_Identifer', 'Product_Weight',\n",
       "       'Product_Fat_Content', 'Product_Shelf_Visibility', 'Product_Type',\n",
       "       'Product_Price', 'Supermarket_Opening_Year', 'Supermarket__Size',\n",
       "       'Supermarket_Location_Type', 'Supermarket_Type',\n",
       "       'Average_Price_per_ProductType', 'Product_Supermarket_Sales'],\n",
       "      dtype='object')"
      ]
     },
     "execution_count": 146,
     "metadata": {},
     "output_type": "execute_result"
    }
   ],
   "source": [
    "df_clean.columns"
   ]
  },
  {
   "cell_type": "markdown",
   "id": "197d6d63",
   "metadata": {},
   "source": [
    "There is no relationship between the product shelf visibility and the product sales"
   ]
  },
  {
   "cell_type": "code",
   "execution_count": 130,
   "id": "1845c1f4",
   "metadata": {},
   "outputs": [
    {
     "data": {
      "text/plain": [
       "Text(0.5, 1.0, 'Distribution of Product Weight')"
      ]
     },
     "execution_count": 130,
     "metadata": {},
     "output_type": "execute_result"
    },
    {
     "data": {
      "image/png": "[encoded data removed]",
      "text/plain": [
       "<Figure size 640x480 with 1 Axes>"
      ]
     },
     "metadata": {},
     "output_type": "display_data"
    }
   ],
   "source": [
    "plt.hist(x=df_clean['Product_Weight'], bins=np.arange(10, 100, 10), color='maroon')\n",
    "\n",
    "plt.xlabel('Product Weight')\n",
    "plt.ylabel('Count')\n",
    "plt.title('Distribution of Product Weight', fontsize=14)"
   ]
  },
  {
   "cell_type": "code",
   "execution_count": 131,
   "id": "a3e06b5a",
   "metadata": {},
   "outputs": [
    {
     "data": {
      "text/plain": [
       "Text(0.5, 1.0, 'Distribution of Product Shelf Visibility')"
      ]
     },
     "execution_count": 131,
     "metadata": {},
     "output_type": "execute_result"
    },
    {
     "data": {
      "image/png": "[encoded data removed]",
      "text/plain": [
       "<Figure size 640x480 with 1 Axes>"
      ]
     },
     "metadata": {},
     "output_type": "display_data"
    }
   ],
   "source": [
    "plt.hist(x=df_clean['Product_Shelf_Visibility'], bins=np.arange(0.04, 0.4, 0.04), color='maroon')\n",
    "\n",
    "plt.xlabel('Product Shelf Visibility')\n",
    "plt.ylabel('Count')\n",
    "plt.title('Distribution of Product Shelf Visibility', fontsize=14)"
   ]
  },
  {
   "cell_type": "code",
   "execution_count": 132,
   "id": "96d4dba2",
   "metadata": {},
   "outputs": [
    {
     "data": {
      "text/plain": [
       "Text(0.5, 1.0, 'Number of Product Fat Content')"
      ]
     },
     "execution_count": 132,
     "metadata": {},
     "output_type": "execute_result"
    },
    {
     "data": {
      "image/png": "[encoded data removed]",
      "text/plain": [
       "<Figure size 640x480 with 1 Axes>"
      ]
     },
     "metadata": {},
     "output_type": "display_data"
    }
   ],
   "source": [
    "df_clean['Product_Fat_Content'].value_counts()[::-1].plot(kind='barh', color='maroon')\n",
    "\n",
    "plt.xlabel('Product Fat Content')\n",
    "plt.ylabel('Count')\n",
    "plt.title('Number of Product Fat Content', fontsize=14)"
   ]
  },
  {
   "cell_type": "code",
   "execution_count": 152,
   "id": "fbfed79f",
   "metadata": {},
   "outputs": [
    {
     "data": {
      "text/plain": [
       "Text(0.5, 1.0, 'Number of Products')"
      ]
     },
     "execution_count": 152,
     "metadata": {},
     "output_type": "execute_result"
    },
    {
     "data": {
      "image/png": "[encoded data removed]",
      "text/plain": [
       "<Figure size 640x480 with 1 Axes>"
      ]
     },
     "metadata": {},
     "output_type": "display_data"
    }
   ],
   "source": [
    "df_clean['Product_Type'].value_counts()[::-1].plot(kind='barh', color='maroon')\n",
    "\n",
    "plt.xlabel('Product Type')\n",
    "plt.ylabel('Count')\n",
    "plt.title('Number of Products', fontsize=14)"
   ]
  },
  {
   "cell_type": "code",
   "execution_count": 153,
   "id": "393106f1",
   "metadata": {},
   "outputs": [
    {
     "data": {
      "text/plain": [
       "Text(0.5, 1.0, 'Top 10 Product Type')"
      ]
     },
     "execution_count": 153,
     "metadata": {},
     "output_type": "execute_result"
    },
    {
     "data": {
      "image/png": "[encoded data removed]",
      "text/plain": [
       "<Figure size 640x480 with 1 Axes>"
      ]
     },
     "metadata": {},
     "output_type": "display_data"
    }
   ],
   "source": [
    "# creating a seaborn countplot\n",
    "sns.countplot(data=df_clean, y='Product_Type', order=df_clean['Product_Type'].value_counts()[:10].index, palette='rocket');\n",
    "plt.title('Top 10 Product Type', fontsize=14)"
   ]
  },
  {
   "cell_type": "code",
   "execution_count": 60,
   "id": "74770798",
   "metadata": {},
   "outputs": [
    {
     "data": {
      "text/plain": [
       "Text(0.5, 1.0, 'Count of Supermarket Size')"
      ]
     },
     "execution_count": 60,
     "metadata": {},
     "output_type": "execute_result"
    },
    {
     "data": {
      "image/png": "[encoded data removed]",
      "text/plain": [
       "<Figure size 640x480 with 1 Axes>"
      ]
     },
     "metadata": {},
     "output_type": "display_data"
    }
   ],
   "source": [
    "sns.countplot(data=df_clean, x='Supermarket__Size', order=df_clean['Supermarket__Size'].value_counts()[::-1].index, palette='rocket')\n",
    "\n",
    "plt.xlabel('Supermarket Size')\n",
    "plt.ylabel('Count')\n",
    "plt.title('Count of Supermarket Size', fontsize=14)"
   ]
  },
  {
   "cell_type": "code",
   "execution_count": 61,
   "id": "bb56e3fc",
   "metadata": {
    "scrolled": true
   },
   "outputs": [
    {
     "data": {
      "image/png": "[encoded data removed]",
      "text/plain": [
       "<Figure size 640x480 with 1 Axes>"
      ]
     },
     "metadata": {},
     "output_type": "display_data"
    }
   ],
   "source": [
    "sns.histplot(data=df_clean, x='Product_Supermarket_Sales', bins=np.arange(10, 100, 10), color='purple');\n",
    "\n"
   ]
  },
  {
   "cell_type": "code",
   "execution_count": 62,
   "id": "4adf4e18",
   "metadata": {},
   "outputs": [
    {
     "data": {
      "image/png": "[encoded data removed]",
      "text/plain": [
       "<Figure size 640x480 with 1 Axes>"
      ]
     },
     "metadata": {},
     "output_type": "display_data"
    }
   ],
   "source": [
    "sns.histplot(data=df_clean, x='Average_Price_per_ProductType', bins=np.arange(10, 100, 10), color='purple');\n"
   ]
  },
  {
   "cell_type": "code",
   "execution_count": 154,
   "id": "c8e9b1b7",
   "metadata": {},
   "outputs": [],
   "source": [
    "#df_clean.groupby(['Supermarket__Size', 'Product_Type'])['Product_Supermarket_Sales'].count().sort_values(ascending=False)"
   ]
  },
  {
   "cell_type": "code",
   "execution_count": 155,
   "id": "dfd6277e",
   "metadata": {},
   "outputs": [],
   "source": [
    "#df_clean.groupby(['Supermarket__Size', 'Product_Type'])['Product_Supermarket_Sales'].max().sort_values(ascending=False)"
   ]
  },
  {
   "cell_type": "code",
   "execution_count": 65,
   "id": "c67c7d1e",
   "metadata": {},
   "outputs": [],
   "source": [
    "# Subsetting the product\n",
    "#subset_df = df_clean[df_clean['Product_Type'].isin(df_clean['Product_Type'].value_counts().head(5).index)]\n",
    "#grouped_df = subset_df.groupby('Supermarket__Size')['Product_Type'].value_counts().unstack()"
   ]
  },
  {
   "cell_type": "code",
   "execution_count": 156,
   "id": "4abe12f9",
   "metadata": {},
   "outputs": [],
   "source": [
    "#grouped_df.plot(kind='bar', figsize=[10,5])\n",
    "#plt.xlabel('Supermarket Size')\n",
    "#plt.ylabel('Count')\n",
    "#plt.title('Product distribution in each Supermarket Size')\n",
    "#plt.show()"
   ]
  },
  {
   "cell_type": "code",
   "execution_count": 157,
   "id": "2c95b3fc",
   "metadata": {},
   "outputs": [],
   "source": [
    "#fig, axes = plt.subplots(nrows=1, ncols=2, figsize=[10, 5])\n",
    "\n",
    "#grouped_df.plot(kind='bar', ax=axes[0]);\n",
    "\n",
    "#sns.histplot(data=df_clean, x='Product_Supermarket_Sales', bins=np.arange(10, 100, 10), color='purple', ax=axes[1]);\n"
   ]
  },
  {
   "cell_type": "code",
   "execution_count": null,
   "id": "9b71a4af",
   "metadata": {},
   "outputs": [],
   "source": []
  }
 ],
 "metadata": {
  "celltoolbar": "Raw Cell Format",
  "kernelspec": {
   "display_name": "Python 3 (ipykernel)",
   "language": "python",
   "name": "python3"
  },
  "language_info": {
   "codemirror_mode": {
    "name": "ipython",
    "version": 3
   },
   "file_extension": ".py",
   "mimetype": "text/x-python",
   "name": "python",
   "nbconvert_exporter": "python",
   "pygments_lexer": "ipython3",
   "version": "3.10.9"
  }
 },
 "nbformat": 4,
 "nbformat_minor": 5
}
